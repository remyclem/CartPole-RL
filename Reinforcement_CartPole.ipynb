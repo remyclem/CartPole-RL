{
 "cells": [
  {
   "cell_type": "markdown",
   "metadata": {},
   "source": [
    "# Template for reinforcement learning applied to the CartPole benchmark\n",
    "\n",
    "A lot of (better) code taken from https://github.com/ageron/handson-ml"
   ]
  },
  {
   "cell_type": "markdown",
   "metadata": {},
   "source": [
    "# Settings"
   ]
  },
  {
   "cell_type": "code",
   "execution_count": 132,
   "metadata": {},
   "outputs": [],
   "source": [
    "%matplotlib inline\n",
    "\n",
    "import matplotlib\n",
    "import matplotlib.pyplot as plt\n",
    "import gym\n",
    "import numpy as np\n",
    "import bisect\n",
    "import math\n",
    "import os\n",
    "import random\n",
    "import tensorflow as tf\n",
    "\n",
    "tf.logging.set_verbosity(tf.logging.WARN)  # Remove Info logs"
   ]
  },
  {
   "cell_type": "code",
   "execution_count": 4,
   "metadata": {},
   "outputs": [],
   "source": [
    "env = gym.make(\"CartPole-v1\")"
   ]
  },
  {
   "cell_type": "code",
   "execution_count": 5,
   "metadata": {},
   "outputs": [
    {
     "name": "stdout",
     "output_type": "stream",
     "text": [
      "Discrete(2)\n",
      "[-0.02997073  0.02689942  0.02788626 -0.02609357]\n",
      "500\n"
     ]
    }
   ],
   "source": [
    "print(env.action_space)  # 0 or 1\n",
    "\n",
    "obs = env.reset()\n",
    "print(obs)  # position, velocity, angle, angular_velocity\n",
    "print(env._max_episode_steps)"
   ]
  },
  {
   "cell_type": "markdown",
   "metadata": {},
   "source": [
    "# Random policy"
   ]
  },
  {
   "cell_type": "code",
   "execution_count": null,
   "metadata": {},
   "outputs": [],
   "source": [
    "def run_episode_random_agent():    \n",
    "    obs = env.reset()\n",
    "    done = False\n",
    "    final_score = 0\n",
    "\n",
    "    while not done:\n",
    "        action = env.action_space.sample()\n",
    "        obs, reward, done, info = env.step(action)\n",
    "        final_score += reward\n",
    "    return final_score"
   ]
  },
  {
   "cell_type": "code",
   "execution_count": null,
   "metadata": {},
   "outputs": [],
   "source": [
    "scores = []\n",
    "nb_episodes = 100\n",
    "\n",
    "for i in range(0, nb_episodes):\n",
    "    episode_score = run_episode_random_agent()\n",
    "    scores.append(episode_score)"
   ]
  },
  {
   "cell_type": "code",
   "execution_count": null,
   "metadata": {},
   "outputs": [],
   "source": [
    "print(np.mean(scores))\n",
    "plt.plot(scores)"
   ]
  },
  {
   "cell_type": "markdown",
   "metadata": {},
   "source": [
    "# Human crafted policy"
   ]
  },
  {
   "cell_type": "code",
   "execution_count": 49,
   "metadata": {},
   "outputs": [],
   "source": [
    "def human_decision(angle):\n",
    "    if angle < 0:\n",
    "        action = 0  # move Cart to left\n",
    "    else:\n",
    "        action = 1  # move Cart to right\n",
    "    return action"
   ]
  },
  {
   "cell_type": "code",
   "execution_count": 50,
   "metadata": {},
   "outputs": [],
   "source": [
    "def run_episode_human_crafted_agent(): \n",
    "    obs = env.reset()\n",
    "    done = False\n",
    "    final_score = 0\n",
    "\n",
    "    while not done:\n",
    "        position, velocity, angle, angular_velocity = obs\n",
    "        action = human_decision(angle)\n",
    "        obs, reward, done, info = env.step(action)\n",
    "\n",
    "        final_score += reward\n",
    "    return final_score"
   ]
  },
  {
   "cell_type": "code",
   "execution_count": 51,
   "metadata": {},
   "outputs": [],
   "source": [
    "scores = []\n",
    "nb_episodes = 100\n",
    "\n",
    "for i in range(0, nb_episodes):\n",
    "    episode_score = run_episode_human_crafted_agent()\n",
    "    scores.append(episode_score)"
   ]
  },
  {
   "cell_type": "code",
   "execution_count": 52,
   "metadata": {},
   "outputs": [
    {
     "name": "stdout",
     "output_type": "stream",
     "text": [
      "42.35\n"
     ]
    },
    {
     "data": {
      "text/plain": [
       "[<matplotlib.lines.Line2D at 0x7f2fc0544358>]"
      ]
     },
     "execution_count": 52,
     "metadata": {},
     "output_type": "execute_result"
    },
    {
     "data": {
      "image/png": "[encoded data removed]",
      "text/plain": [
       "<Figure size 432x288 with 1 Axes>"
      ]
     },
     "metadata": {},
     "output_type": "display_data"
    }
   ],
   "source": [
    "print(np.mean(scores))\n",
    "plt.plot(scores)"
   ]
  },
  {
   "cell_type": "markdown",
   "metadata": {},
   "source": [
    "# Q-learning"
   ]
  },
  {
   "cell_type": "markdown",
   "metadata": {},
   "source": [
    "## Observing the values"
   ]
  },
  {
   "cell_type": "code",
   "execution_count": null,
   "metadata": {},
   "outputs": [],
   "source": [
    "nb_episodes = 1000\n",
    "positions = []\n",
    "velocities = []\n",
    "angles = []\n",
    "angular_velocities = []\n",
    "\n",
    "for episode in range(0, nb_episodes):\n",
    "    obs = env.reset()\n",
    "    done = False\n",
    "    final_score = 0\n",
    "\n",
    "    while not done:\n",
    "        action = env.action_space.sample()\n",
    "        obs, reward, done, info = env.step(action)\n",
    "        position, velocity, angle, angular_velocity = obs\n",
    "        positions.append(position)\n",
    "        velocities.append(velocity)\n",
    "        angles.append(angle)\n",
    "        angular_velocities.append(angular_velocity)        "
   ]
  },
  {
   "cell_type": "code",
   "execution_count": null,
   "metadata": {},
   "outputs": [],
   "source": [
    "plt.hist(positions, bins=100)\n",
    "plt.xlabel('position');\n",
    "plt.ylabel('Occurence');"
   ]
  },
  {
   "cell_type": "code",
   "execution_count": null,
   "metadata": {},
   "outputs": [],
   "source": [
    "plt.hist(velocities, bins=100)\n",
    "plt.xlabel('velocity');\n",
    "plt.ylabel('Occurence');"
   ]
  },
  {
   "cell_type": "code",
   "execution_count": null,
   "metadata": {},
   "outputs": [],
   "source": [
    "plt.hist(angles, bins=100)\n",
    "plt.xlabel('angle');\n",
    "plt.ylabel('Occurence');"
   ]
  },
  {
   "cell_type": "code",
   "execution_count": null,
   "metadata": {},
   "outputs": [],
   "source": [
    "plt.hist(angular_velocities, bins=100)\n",
    "plt.xlabel('angular_velocity');\n",
    "plt.ylabel('Occurence');"
   ]
  },
  {
   "cell_type": "markdown",
   "metadata": {},
   "source": [
    "## Learning the Q-table"
   ]
  },
  {
   "cell_type": "code",
   "execution_count": null,
   "metadata": {},
   "outputs": [],
   "source": [
    "granularity = 16\n",
    "\n",
    "nb_columns = env.action_space.n\n",
    "nb_rows = pow(granularity, 4)  # 4 because the obs is a vector of 4 information\n",
    "\n",
    "Q = np.zeros([nb_rows, nb_columns])  # our table of Q values\n",
    "print(\"The Q-table is of shape:\" + str(Q.shape))\n",
    "\n",
    "nb_times_visited = np.zeros([nb_rows, nb_columns])"
   ]
  },
  {
   "cell_type": "code",
   "execution_count": null,
   "metadata": {},
   "outputs": [],
   "source": [
    "def obs_2_row_index(obs,\n",
    "                    granularity,\n",
    "                    position_min=-2.4, position_max=2.4,\n",
    "                    velocity_min=-3, velocity_max=3,\n",
    "                    angle_min=-0.3, angle_max=0.3,\n",
    "                    angular_velocity_min=-2, angular_velocity_max=2\n",
    "                   ):\n",
    "    assert granularity >= 2\n",
    "    assert isinstance(granularity, int)\n",
    "    \n",
    "    position, velocity, angle, angular_velocity = obs\n",
    "    \n",
    "    discretized_positions = np.linspace(position_min, position_max, num=granularity-1)\n",
    "    discretized_velocities = np.linspace(velocity_min, velocity_max, num=granularity-1)\n",
    "    discretized_angles = np.linspace(angle_min, angle_max, num=granularity-1)\n",
    "    discretized_angular_velocities = np.linspace(angular_velocity_min, angular_velocity_max, num=granularity-1)\n",
    "    \n",
    "    position_index = bisect.bisect_left(discretized_positions, position)\n",
    "    velocity_index = bisect.bisect_left(discretized_velocities, velocity)\n",
    "    angle_index = bisect.bisect_left(discretized_angles, angle)\n",
    "    angular_velocity_index = bisect.bisect_left(discretized_angular_velocities, angular_velocity)\n",
    "    \n",
    "    row_index = math.pow(granularity, 0) * position_index \\\n",
    "                + math.pow(granularity, 1) * velocity_index \\\n",
    "                + math.pow(granularity, 2) * angle_index \\\n",
    "                + math.pow(granularity, 3) * angular_velocity_index\n",
    "    row_index = int(row_index)\n",
    "                \n",
    "    return row_index"
   ]
  },
  {
   "cell_type": "code",
   "execution_count": null,
   "metadata": {},
   "outputs": [],
   "source": [
    "nb_training_episodes = 5000\n",
    "learning_rate = 0.2\n",
    "discount_rate = 1\n",
    "epsilon_exploration = 0.5\n",
    "exploration_decay_rate = 0.999\n",
    "target_nb_moves = 500\n",
    "accumulated_scores_records = []\n",
    "\n",
    "for episode in range(0, nb_training_episodes):\n",
    "    step = 0\n",
    "    done = False\n",
    "    episode_score, reward = 0, 0    \n",
    "    obs = env.reset()\n",
    "    while not done:         \n",
    "        row_index = obs_2_row_index(obs, granularity)\n",
    "        \n",
    "        if random.uniform(0, 1) > epsilon_exploration:\n",
    "            action = np.argmax(Q[row_index])\n",
    "        else:\n",
    "            action = np.random.randint(0, 2)\n",
    "        \n",
    "        col_index = action        \n",
    "        new_obs, reward, done, info = env.step(action)\n",
    "        episode_score += reward\n",
    "        if done:\n",
    "            reward = step - target_nb_moves\n",
    "        new_row_index = obs_2_row_index(new_obs, granularity)   \n",
    "        Q[row_index, col_index] += learning_rate \\\n",
    "                                   * (reward + discount_rate * np.max(Q[new_row_index]) - Q[row_index, col_index])\n",
    "        nb_times_visited[row_index, col_index] += 1\n",
    "        \n",
    "        obs = new_obs\n",
    "        step += 1\n",
    "        \n",
    "    accumulated_scores_records.append(episode_score)\n",
    "    if episode % 50 == 0:\n",
    "        print('Episode {} - score: {}'.format(episode, episode_score))\n",
    "    epsilon_exploration = epsilon_exploration * exploration_decay_rate"
   ]
  },
  {
   "cell_type": "code",
   "execution_count": null,
   "metadata": {},
   "outputs": [],
   "source": [
    "plt.plot(accumulated_scores_records)\n",
    "plt.xlabel('episode')\n",
    "plt.ylabel('rewards')\n",
    "plt.show()"
   ]
  },
  {
   "cell_type": "code",
   "execution_count": null,
   "metadata": {},
   "outputs": [],
   "source": [
    "# save table\n",
    "save_folder = os.path.join(\".\", \"save\")\n",
    "if not os.path.isdir(save_folder):\n",
    "    os.makedirs(save_folder)\n",
    "q_table_save_file = os.path.join(save_folder, \"q_table_{}.npy\".format(granularity))\n",
    "np.save(q_table_save_file, Q)\n",
    "\n",
    "q_table_csv_save_file = os.path.join(save_folder, \"q_table_{}.csv\".format(granularity))\n",
    "np.savetxt(q_table_csv_save_file, Q, delimiter=\";\")\n",
    "\n",
    "nb_times_visited_csv_save_file = os.path.join(save_folder, \"nb_times_visited_{}.csv\".format(granularity))\n",
    "np.savetxt(nb_times_visited_csv_save_file, nb_times_visited, delimiter=\";\")"
   ]
  },
  {
   "cell_type": "markdown",
   "metadata": {},
   "source": [
    "## Exploiting the Q-table"
   ]
  },
  {
   "cell_type": "code",
   "execution_count": null,
   "metadata": {},
   "outputs": [],
   "source": [
    "# load_table\n",
    "q_table_save_file = os.path.join(\".\", \"save\", \"q_table_{}.npy\".format(granularity))\n",
    "if not os.path.isfile(q_table_save_file):\n",
    "    print(\"file *{}* not found!!\".format(q_table_save_file))\n",
    "else:\n",
    "    Q = np.load(q_table_save_file)"
   ]
  },
  {
   "cell_type": "code",
   "execution_count": null,
   "metadata": {},
   "outputs": [],
   "source": [
    "def run_episode_q_learning(Q):    \n",
    "    obs = env.reset()\n",
    "    done = False\n",
    "    final_score = 0\n",
    "    while not done:        \n",
    "        row_index = obs_2_row_index(obs, granularity)\n",
    "        action = np.argmax(Q[row_index])\n",
    "        obs, reward, done, info = env.step(action)\n",
    "        final_score += reward\n",
    "    return final_score"
   ]
  },
  {
   "cell_type": "code",
   "execution_count": null,
   "metadata": {},
   "outputs": [],
   "source": [
    "scores = []\n",
    "nb_episodes = 100\n",
    "\n",
    "for i in range(0, nb_episodes):\n",
    "    episode_score = run_episode_q_learning(Q)\n",
    "    scores.append(episode_score)"
   ]
  },
  {
   "cell_type": "code",
   "execution_count": null,
   "metadata": {},
   "outputs": [],
   "source": [
    "print(np.mean(scores))\n",
    "plt.plot(scores)"
   ]
  },
  {
   "cell_type": "markdown",
   "metadata": {},
   "source": [
    "# Policy gradient"
   ]
  },
  {
   "cell_type": "markdown",
   "metadata": {},
   "source": [
    "## Computational graph"
   ]
  },
  {
   "cell_type": "code",
   "execution_count": 2,
   "metadata": {},
   "outputs": [],
   "source": [
    "nb_neurons_input = 4  # len(obs)\n",
    "nb_neurons_hidden_layer = 4\n",
    "nb_neurons_output = 1\n",
    "\n",
    "X = tf.placeholder(shape=[None, nb_neurons_input], dtype=tf.float32, name=\"X\")\n",
    "\n",
    "with tf.name_scope(\"dnn\"): \n",
    "    initializer_w = tf.contrib.layers.xavier_initializer()\n",
    "    initializer_b = tf.zeros_initializer() \n",
    "    hidden = tf.layers.dense(X, nb_neurons_hidden_layer, \\\n",
    "                             activation=tf.nn.elu, \\\n",
    "                             kernel_initializer=tf.contrib.layers.xavier_initializer(), \\\n",
    "                             name=\"hidden\")\n",
    "    output = tf.layers.dense(hidden, nb_neurons_output, \n",
    "                             activation=tf.nn.sigmoid,\n",
    "                             name=\"output\")  # proba of moving kart to left\n",
    "\n",
    "init = tf.global_variables_initializer()"
   ]
  },
  {
   "cell_type": "markdown",
   "metadata": {},
   "source": [
    "## Playing an episode - before training"
   ]
  },
  {
   "cell_type": "code",
   "execution_count": 10,
   "metadata": {},
   "outputs": [],
   "source": [
    "def run_episode_neural_network():    \n",
    "    with tf.Session() as sess:\n",
    "        init.run()\n",
    "        obs = env.reset()\n",
    "        obs_pretty = obs.reshape(1, nb_neurons_input)\n",
    "        done = False\n",
    "        final_score = 0\n",
    "        while not done: \n",
    "            proba_move_to_left = output.eval(feed_dict={X: obs_pretty})        \n",
    "            if random.uniform(0, 1) < proba_move_to_left:\n",
    "                action = 0  # move to left\n",
    "            else:\n",
    "                action = 1       \n",
    "            obs, reward, done, info = env.step(action) \n",
    "            if done:\n",
    "                break\n",
    "            final_score += reward\n",
    "    return final_score"
   ]
  },
  {
   "cell_type": "code",
   "execution_count": 11,
   "metadata": {},
   "outputs": [],
   "source": [
    "scores = []\n",
    "nb_episodes = 100\n",
    "\n",
    "for i in range(0, nb_episodes):\n",
    "    episode_score = run_episode_neural_network()\n",
    "    scores.append(episode_score)"
   ]
  },
  {
   "cell_type": "code",
   "execution_count": 12,
   "metadata": {},
   "outputs": [
    {
     "name": "stdout",
     "output_type": "stream",
     "text": [
      "19.24\n"
     ]
    },
    {
     "data": {
      "text/plain": [
       "[<matplotlib.lines.Line2D at 0x7f2fec147358>]"
      ]
     },
     "execution_count": 12,
     "metadata": {},
     "output_type": "execute_result"
    },
    {
     "data": {
      "image/png": "[encoded data removed]",
      "text/plain": [
       "<Figure size 432x288 with 1 Axes>"
      ]
     },
     "metadata": {},
     "output_type": "display_data"
    }
   ],
   "source": [
    "print(np.mean(scores))\n",
    "plt.plot(scores)"
   ]
  },
  {
   "cell_type": "markdown",
   "metadata": {},
   "source": [
    "## Training the neural net to imitate the human crafted policy"
   ]
  },
  {
   "cell_type": "code",
   "execution_count": 105,
   "metadata": {},
   "outputs": [],
   "source": [
    "tf.reset_default_graph()\n",
    "\n",
    "nb_neurons_input = 4  # len(obs)\n",
    "nb_neurons_hidden_layer = 4\n",
    "nb_neurons_output = 1\n",
    "learning_rate = 0.01\n",
    "\n",
    "X = tf.placeholder(tf.float32, shape=[None, nb_neurons_input], name=\"X\")\n",
    "y = tf.placeholder(tf.float32, shape=[None, nb_neurons_output], name=\"y\")\n",
    "\n",
    "with tf.name_scope(\"dnn\"): \n",
    "    initializer_w = tf.contrib.layers.xavier_initializer()\n",
    "    initializer_b = tf.zeros_initializer() \n",
    "    \n",
    "    hidden = tf.layers.dense(X, nb_neurons_hidden_layer, \\\n",
    "                             activation=tf.nn.elu, \\\n",
    "                             kernel_initializer=tf.contrib.layers.xavier_initializer(), \\\n",
    "                             name=\"hidden\")\n",
    "    logits = tf.layers.dense(hidden, nb_neurons_output, \n",
    "                             name=\"logits\")  \n",
    "    estimated_action_value = tf.nn.sigmoid(logits, name=\"estimated_action_value\")  # 0 => left, 1 => right\n",
    "    p_left_and_right = tf.concat(axis=1, values=[1 - estimated_action_value, estimated_action_value])\n",
    "    estimated_action = tf.multinomial(tf.log(p_left_and_right), num_samples=1)\n",
    "\n",
    "cross_entropy = tf.nn.sigmoid_cross_entropy_with_logits(labels=y, logits=logits)\n",
    "optimizer = tf.train.AdamOptimizer(learning_rate)\n",
    "training_op = optimizer.minimize(cross_entropy)\n",
    "\n",
    "init = tf.global_variables_initializer()\n",
    "saver = tf.train.Saver()"
   ]
  },
  {
   "cell_type": "code",
   "execution_count": 133,
   "metadata": {},
   "outputs": [],
   "source": [
    "n_training_episode = 2000\n",
    "tf_logs_dir = os.path.join(\".\", \"save\", \"tf_logs\", \"imitation_neural_net\")\n",
    "if not os.path.isdir(tf_logs_dir):\n",
    "    os.makedirs(tf_logs_dir)\n",
    "tf_log_file = os.path.join(tf_logs_dir, \"imitation_neural_net.ckpt\")\n",
    "\n",
    "with tf.Session() as sess:\n",
    "    init.run()\n",
    "    for episode in range(n_training_episode):\n",
    "        step = 0\n",
    "        done = False\n",
    "        episode_score, reward = 0, 0    \n",
    "        obs = env.reset()\n",
    "        while not done:         \n",
    "            position, velocity, angle, angular_velocity = obs\n",
    "            obs_pretty = obs.reshape(1, nb_neurons_input)\n",
    "            target_action = human_decision(angle)\n",
    "            target_action = np.array([target_action]).reshape(1, 1)     \n",
    "            action_val, _ = sess.run([estimated_action, training_op], feed_dict={X: obs_pretty, y: target_action})  \n",
    "            selected_action = action_val[0][0]            \n",
    "            obs, reward, done, info = env.step(selected_action)                \n",
    "    saver.save(sess, tf_log_file)"
   ]
  },
  {
   "cell_type": "code",
   "execution_count": 134,
   "metadata": {},
   "outputs": [],
   "source": [
    "def run_episode_neural_network(tf_log_file): \n",
    "    with tf.Session() as sess:\n",
    "        saver.restore(sess, tf_log_file)\n",
    "        obs = env.reset()\n",
    "        done = False\n",
    "        final_score = 0\n",
    "        while not done: \n",
    "            obs_pretty = obs.reshape(1, nb_neurons_input)\n",
    "            estimated_action = estimated_action_value.eval(feed_dict={X: obs_pretty}) \n",
    "            estimated_action = estimated_action[0][0]    \n",
    "            if estimated_action > 0.5:\n",
    "                action = 1\n",
    "            else:\n",
    "                action = 0  \n",
    "            obs, reward, done, info = env.step(action)\n",
    "            final_score += reward\n",
    "    return final_score"
   ]
  },
  {
   "cell_type": "code",
   "execution_count": 135,
   "metadata": {},
   "outputs": [],
   "source": [
    "tf_logs_dir = os.path.join(\".\", \"save\", \"tf_logs\", \"imitation_neural_net\")\n",
    "if not os.path.isdir(tf_logs_dir):\n",
    "    os.makedirs(tf_logs_dir)\n",
    "tf_log_file = os.path.join(tf_logs_dir, \"imitation_neural_net.ckpt\")"
   ]
  },
  {
   "cell_type": "code",
   "execution_count": 136,
   "metadata": {},
   "outputs": [],
   "source": [
    "scores = []\n",
    "nb_episodes = 100\n",
    "\n",
    "for i in range(0, nb_episodes):\n",
    "    episode_score = run_episode_neural_network(tf_log_file)\n",
    "    scores.append(episode_score)"
   ]
  },
  {
   "cell_type": "code",
   "execution_count": 137,
   "metadata": {},
   "outputs": [
    {
     "name": "stdout",
     "output_type": "stream",
     "text": [
      "41.07\n"
     ]
    },
    {
     "data": {
      "text/plain": [
       "[<matplotlib.lines.Line2D at 0x7f2fc0113eb8>]"
      ]
     },
     "execution_count": 137,
     "metadata": {},
     "output_type": "execute_result"
    },
    {
     "data": {
      "image/png": "[encoded data removed]",
      "text/plain": [
       "<Figure size 432x288 with 1 Axes>"
      ]
     },
     "metadata": {},
     "output_type": "display_data"
    }
   ],
   "source": [
    "print(np.mean(scores))\n",
    "plt.plot(scores)"
   ]
  },
  {
   "cell_type": "markdown",
   "metadata": {},
   "source": [
    "## Actual policy gradient"
   ]
  },
  {
   "cell_type": "code",
   "execution_count": 139,
   "metadata": {},
   "outputs": [],
   "source": [
    "tf.reset_default_graph()\n",
    "\n",
    "nb_neurons_input = 4  # len(obs)\n",
    "nb_neurons_hidden_layer = 4\n",
    "nb_neurons_output = 1\n",
    "learning_rate = 0.01\n",
    "\n",
    "X = tf.placeholder(tf.float32, shape=[None, nb_neurons_input], name=\"X\")\n",
    "y = tf.placeholder(tf.float32, shape=[None, nb_neurons_output], name=\"y\")\n",
    "\n",
    "with tf.name_scope(\"dnn\"): \n",
    "    initializer_w = tf.contrib.layers.xavier_initializer()\n",
    "    initializer_b = tf.zeros_initializer() \n",
    "    \n",
    "    hidden = tf.layers.dense(X, nb_neurons_hidden_layer, \\\n",
    "                             activation=tf.nn.elu, \\\n",
    "                             kernel_initializer=tf.contrib.layers.xavier_initializer(), \\\n",
    "                             name=\"hidden\")\n",
    "    logits = tf.layers.dense(hidden, nb_neurons_output, \n",
    "                             name=\"logits\")  \n",
    "    estimated_action_value = tf.nn.sigmoid(logits, name=\"estimated_action_value\")  # 0 => left, 1 => right\n",
    "    p_left_and_right = tf.concat(axis=1, values=[1 - estimated_action_value, estimated_action_value])\n",
    "    tentative_action = tf.multinomial(tf.log(p_left_and_right), num_samples=1)\n",
    "\n",
    "    \n",
    "    \n",
    "y = tf.to_float(tentative_action)\n",
    "cross_entropy = tf.nn.sigmoid_cross_entropy_with_logits(labels=y, logits=logits)\n",
    "optimizer = tf.train.AdamOptimizer(learning_rate)\n",
    "grads_and_vars = optimizer.compute_gradients(cross_entropy)\n",
    "gradients = [grad for grad, variable in grads_and_vars]\n",
    "gradient_placeholders = []\n",
    "grads_and_vars_feed = []\n",
    "for grad, variable in grads_and_vars:\n",
    "    gradient_placeholder = tf.placeholder(tf.float32, shape=grad.get_shape())\n",
    "    gradient_placeholders.append(gradient_placeholder)\n",
    "    grads_and_vars_feed.append((gradient_placeholder, variable))\n",
    "training_op = optimizer.apply_gradients(grads_and_vars_feed)\n",
    "    \n",
    "init = tf.global_variables_initializer()\n",
    "saver = tf.train.Saver()"
   ]
  },
  {
   "cell_type": "code",
   "execution_count": 140,
   "metadata": {},
   "outputs": [],
   "source": [
    "def discount_rewards(rewards, discount_rate):\n",
    "    discounted_rewards = np.zeros(len(rewards))\n",
    "    cumulative_rewards = 0\n",
    "    for step in reversed(range(len(rewards))):\n",
    "        cumulative_rewards = rewards[step] + cumulative_rewards * discount_rate\n",
    "        discounted_rewards[step] = cumulative_rewards\n",
    "    return discounted_rewards\n",
    "\n",
    "def discount_and_normalize_rewards(all_rewards, discount_rate):\n",
    "    all_discounted_rewards = [discount_rewards(rewards, discount_rate) for rewards in all_rewards]\n",
    "    flat_rewards = np.concatenate(all_discounted_rewards)\n",
    "    reward_mean = flat_rewards.mean()\n",
    "    reward_std = flat_rewards.std()\n",
    "    return [(discounted_rewards - reward_mean) / reward_std for discounted_rewards in all_discounted_rewards]"
   ]
  },
  {
   "cell_type": "code",
   "execution_count": null,
   "metadata": {},
   "outputs": [],
   "source": []
  },
  {
   "cell_type": "code",
   "execution_count": 153,
   "metadata": {},
   "outputs": [],
   "source": [
    "import tensorflow as tf\n",
    "\n",
    "tf.reset_default_graph()\n",
    "\n",
    "n_inputs = 4\n",
    "n_hidden = 4\n",
    "n_outputs = 1\n",
    "\n",
    "learning_rate = 0.01\n",
    "\n",
    "initializer = tf.contrib.layers.variance_scaling_initializer()\n",
    "\n",
    "X = tf.placeholder(tf.float32, shape=[None, n_inputs])\n",
    "\n",
    "hidden = tf.layers.dense(X, n_hidden, activation=tf.nn.elu, kernel_initializer=initializer)\n",
    "logits = tf.layers.dense(hidden, n_outputs)\n",
    "outputs = tf.nn.sigmoid(logits)  # probability of action 0 (left)\n",
    "p_left_and_right = tf.concat(axis=1, values=[outputs, 1 - outputs])\n",
    "action = tf.multinomial(tf.log(p_left_and_right), num_samples=1)\n",
    "\n",
    "y = 1. - tf.to_float(action)\n",
    "cross_entropy = tf.nn.sigmoid_cross_entropy_with_logits(labels=y, logits=logits)\n",
    "optimizer = tf.train.AdamOptimizer(learning_rate)\n",
    "grads_and_vars = optimizer.compute_gradients(cross_entropy)\n",
    "gradients = [grad for grad, variable in grads_and_vars]\n",
    "gradient_placeholders = []\n",
    "grads_and_vars_feed = []\n",
    "for grad, variable in grads_and_vars:\n",
    "    gradient_placeholder = tf.placeholder(tf.float32, shape=grad.get_shape())\n",
    "    gradient_placeholders.append(gradient_placeholder)\n",
    "    grads_and_vars_feed.append((gradient_placeholder, variable))\n",
    "training_op = optimizer.apply_gradients(grads_and_vars_feed)\n",
    "\n",
    "init = tf.global_variables_initializer()\n",
    "saver = tf.train.Saver()"
   ]
  },
  {
   "cell_type": "code",
   "execution_count": 154,
   "metadata": {},
   "outputs": [
    {
     "name": "stdout",
     "output_type": "stream",
     "text": [
      "Iteration: 249"
     ]
    }
   ],
   "source": [
    "n_games_per_update = 10\n",
    "n_max_steps = 1000\n",
    "n_iterations = 250\n",
    "save_iterations = 10\n",
    "discount_rate = 0.95\n",
    "tf_logs_dir = os.path.join(\".\", \"save\", \"tf_logs\", \"policy_gradient_neural_net\")\n",
    "if not os.path.isdir(tf_logs_dir):\n",
    "    os.makedirs(tf_logs_dir)\n",
    "tf_log_file = os.path.join(tf_logs_dir, \"policy_gradient_neural_net.ckpt\")\n",
    "\n",
    "with tf.Session() as sess:\n",
    "    init.run()  # TODO: restore the previous network which imitates the human behaviour\n",
    "    for iteration in range(n_iterations):\n",
    "        print(\"\\rIteration: {}\".format(iteration), end=\"\")\n",
    "        all_rewards = []\n",
    "        all_gradients = []\n",
    "        for game in range(n_games_per_update):\n",
    "            current_rewards = []\n",
    "            current_gradients = []\n",
    "            obs = env.reset()\n",
    "            for step in range(n_max_steps):\n",
    "                action_val, gradients_val = sess.run([action, gradients], feed_dict={X: obs.reshape(1, nb_neurons_input)})\n",
    "                obs, reward, done, info = env.step(action_val[0][0])\n",
    "                current_rewards.append(reward)\n",
    "                current_gradients.append(gradients_val)\n",
    "                if done:\n",
    "                    break\n",
    "            all_rewards.append(current_rewards)\n",
    "            all_gradients.append(current_gradients)\n",
    "\n",
    "        all_rewards = discount_and_normalize_rewards(all_rewards, discount_rate=discount_rate)\n",
    "        feed_dict = {}\n",
    "        for var_index, gradient_placeholder in enumerate(gradient_placeholders):\n",
    "            mean_gradients = np.mean([reward * all_gradients[game_index][step][var_index]\n",
    "                                      for game_index, rewards in enumerate(all_rewards)\n",
    "                                          for step, reward in enumerate(rewards)], axis=0)\n",
    "            feed_dict[gradient_placeholder] = mean_gradients\n",
    "        sess.run(training_op, feed_dict=feed_dict)\n",
    "        if iteration % save_iterations == 0:\n",
    "            saver.save(sess, tf_log_file)"
   ]
  },
  {
   "cell_type": "code",
   "execution_count": null,
   "metadata": {},
   "outputs": [],
   "source": []
  },
  {
   "cell_type": "code",
   "execution_count": null,
   "metadata": {},
   "outputs": [],
   "source": []
  },
  {
   "cell_type": "code",
   "execution_count": 155,
   "metadata": {},
   "outputs": [],
   "source": [
    "def run_episode_neural_network(tf_log_file): \n",
    "    with tf.Session() as sess:\n",
    "        saver.restore(sess, tf_log_file)\n",
    "        obs = env.reset()\n",
    "        done = False\n",
    "        final_score = 0\n",
    "        while not done: \n",
    "            obs_pretty = obs.reshape(1, nb_neurons_input)\n",
    "            estimated_action = outputs.eval(feed_dict={X: obs_pretty}) \n",
    "            estimated_action = estimated_action[0][0]    \n",
    "            if estimated_action > 0.5:\n",
    "                action = 1\n",
    "            else:\n",
    "                action = 0  \n",
    "            obs, reward, done, info = env.step(action)\n",
    "            final_score += reward\n",
    "    return final_score"
   ]
  },
  {
   "cell_type": "code",
   "execution_count": 156,
   "metadata": {},
   "outputs": [],
   "source": [
    "tf_logs_dir = os.path.join(\".\", \"save\", \"tf_logs\", \"policy_gradient_neural_net\")\n",
    "if not os.path.isdir(tf_logs_dir):\n",
    "    os.makedirs(tf_logs_dir)\n",
    "tf_log_file = os.path.join(tf_logs_dir, \"policy_gradient_neural_net.ckpt\")"
   ]
  },
  {
   "cell_type": "code",
   "execution_count": 157,
   "metadata": {},
   "outputs": [],
   "source": [
    "scores = []\n",
    "nb_episodes = 100\n",
    "\n",
    "for i in range(0, nb_episodes):\n",
    "    episode_score = run_episode_neural_network(tf_log_file)\n",
    "    scores.append(episode_score)"
   ]
  },
  {
   "cell_type": "code",
   "execution_count": 158,
   "metadata": {},
   "outputs": [
    {
     "name": "stdout",
     "output_type": "stream",
     "text": [
      "8.76\n"
     ]
    },
    {
     "data": {
      "text/plain": [
       "[<matplotlib.lines.Line2D at 0x7f2fe467add8>]"
      ]
     },
     "execution_count": 158,
     "metadata": {},
     "output_type": "execute_result"
    },
    {
     "data": {
      "image/png": "[encoded data removed]",
      "text/plain": [
       "<Figure size 432x288 with 1 Axes>"
      ]
     },
     "metadata": {},
     "output_type": "display_data"
    }
   ],
   "source": [
    "print(np.mean(scores))\n",
    "plt.plot(scores)"
   ]
  },
  {
   "cell_type": "code",
   "execution_count": null,
   "metadata": {},
   "outputs": [],
   "source": []
  }
 ],
 "metadata": {
  "kernelspec": {
   "display_name": "Python 3",
   "language": "python",
   "name": "python3"
  },
  "language_info": {
   "codemirror_mode": {
    "name": "ipython",
    "version": 3
   },
   "file_extension": ".py",
   "mimetype": "text/x-python",
   "name": "python",
   "nbconvert_exporter": "python",
   "pygments_lexer": "ipython3",
   "version": "3.6.7"
  }
 },
 "nbformat": 4,
 "nbformat_minor": 2
}
