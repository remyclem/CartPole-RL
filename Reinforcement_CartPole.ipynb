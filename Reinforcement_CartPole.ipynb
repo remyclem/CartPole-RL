{
 "cells": [
  {
   "cell_type": "markdown",
   "metadata": {},
   "source": [
    "# Template for reinforcement learning applied to the CartPole benchmark\n",
    "\n",
    "A lot of (better) code taken from https://github.com/ageron/handson-ml"
   ]
  },
  {
   "cell_type": "markdown",
   "metadata": {},
   "source": [
    "# Settings"
   ]
  },
  {
   "cell_type": "code",
   "execution_count": 1,
   "metadata": {},
   "outputs": [
    {
     "name": "stderr",
     "output_type": "stream",
     "text": [
      "/home/remy/.local/lib/python3.6/site-packages/h5py/__init__.py:36: FutureWarning: Conversion of the second argument of issubdtype from `float` to `np.floating` is deprecated. In future, it will be treated as `np.float64 == np.dtype(float).type`.\n",
      "  from ._conv import register_converters as _register_converters\n"
     ]
    }
   ],
   "source": [
    "%matplotlib inline\n",
    "\n",
    "import matplotlib\n",
    "import matplotlib.pyplot as plt\n",
    "import gym\n",
    "import numpy as np\n",
    "import bisect\n",
    "import math\n",
    "import os\n",
    "import random\n",
    "import tensorflow as tf\n",
    "\n",
    "tf.logging.set_verbosity(tf.logging.WARN)  # Remove Info logs"
   ]
  },
  {
   "cell_type": "code",
   "execution_count": 2,
   "metadata": {},
   "outputs": [],
   "source": [
    "env = gym.make(\"CartPole-v1\")"
   ]
  },
  {
   "cell_type": "code",
   "execution_count": 3,
   "metadata": {},
   "outputs": [
    {
     "name": "stdout",
     "output_type": "stream",
     "text": [
      "Discrete(2)\n",
      "[ 0.04882071 -0.04438868 -0.03304907 -0.0095048 ]\n",
      "500\n"
     ]
    }
   ],
   "source": [
    "print(env.action_space)  # 0 or 1\n",
    "\n",
    "obs = env.reset()\n",
    "print(obs)  # position, velocity, angle, angular_velocity\n",
    "print(env._max_episode_steps)"
   ]
  },
  {
   "cell_type": "markdown",
   "metadata": {},
   "source": [
    "# Random policy"
   ]
  },
  {
   "cell_type": "code",
   "execution_count": null,
   "metadata": {},
   "outputs": [],
   "source": [
    "def run_episode_random_agent():    \n",
    "    obs = env.reset()\n",
    "    done = False\n",
    "    final_score = 0\n",
    "\n",
    "    while not done:\n",
    "        action = env.action_space.sample()\n",
    "        obs, reward, done, info = env.step(action)\n",
    "        final_score += reward\n",
    "    return final_score"
   ]
  },
  {
   "cell_type": "code",
   "execution_count": null,
   "metadata": {},
   "outputs": [],
   "source": [
    "scores = []\n",
    "nb_episodes = 100\n",
    "\n",
    "for i in range(0, nb_episodes):\n",
    "    episode_score = run_episode_random_agent()\n",
    "    scores.append(episode_score)"
   ]
  },
  {
   "cell_type": "code",
   "execution_count": null,
   "metadata": {},
   "outputs": [],
   "source": [
    "print(np.mean(scores))\n",
    "plt.plot(scores)"
   ]
  },
  {
   "cell_type": "markdown",
   "metadata": {},
   "source": [
    "# Human crafted policy"
   ]
  },
  {
   "cell_type": "code",
   "execution_count": null,
   "metadata": {},
   "outputs": [],
   "source": [
    "def human_decision(angle):\n",
    "    if angle < 0:\n",
    "        action = 0  # move Cart to left\n",
    "    else:\n",
    "        action = 1  # move Cart to right\n",
    "    return action"
   ]
  },
  {
   "cell_type": "code",
   "execution_count": null,
   "metadata": {},
   "outputs": [],
   "source": [
    "def run_episode_human_crafted_agent(): \n",
    "    obs = env.reset()\n",
    "    done = False\n",
    "    final_score = 0\n",
    "\n",
    "    while not done:\n",
    "        position, velocity, angle, angular_velocity = obs\n",
    "        action = human_decision(angle)\n",
    "        obs, reward, done, info = env.step(action)\n",
    "\n",
    "        final_score += reward\n",
    "    return final_score"
   ]
  },
  {
   "cell_type": "code",
   "execution_count": null,
   "metadata": {},
   "outputs": [],
   "source": [
    "scores = []\n",
    "nb_episodes = 100\n",
    "\n",
    "for i in range(0, nb_episodes):\n",
    "    episode_score = run_episode_human_crafted_agent()\n",
    "    scores.append(episode_score)"
   ]
  },
  {
   "cell_type": "code",
   "execution_count": null,
   "metadata": {},
   "outputs": [],
   "source": [
    "print(np.mean(scores))\n",
    "plt.plot(scores)"
   ]
  },
  {
   "cell_type": "markdown",
   "metadata": {},
   "source": [
    "# Q-learning"
   ]
  },
  {
   "cell_type": "markdown",
   "metadata": {},
   "source": [
    "## Observing the values"
   ]
  },
  {
   "cell_type": "code",
   "execution_count": null,
   "metadata": {},
   "outputs": [],
   "source": [
    "nb_episodes = 1000\n",
    "positions = []\n",
    "velocities = []\n",
    "angles = []\n",
    "angular_velocities = []\n",
    "\n",
    "for episode in range(0, nb_episodes):\n",
    "    obs = env.reset()\n",
    "    done = False\n",
    "    final_score = 0\n",
    "\n",
    "    while not done:\n",
    "        action = env.action_space.sample()\n",
    "        obs, reward, done, info = env.step(action)\n",
    "        position, velocity, angle, angular_velocity = obs\n",
    "        positions.append(position)\n",
    "        velocities.append(velocity)\n",
    "        angles.append(angle)\n",
    "        angular_velocities.append(angular_velocity)        "
   ]
  },
  {
   "cell_type": "code",
   "execution_count": null,
   "metadata": {},
   "outputs": [],
   "source": [
    "plt.hist(positions, bins=100)\n",
    "plt.xlabel('position');\n",
    "plt.ylabel('Occurence');"
   ]
  },
  {
   "cell_type": "code",
   "execution_count": null,
   "metadata": {},
   "outputs": [],
   "source": [
    "plt.hist(velocities, bins=100)\n",
    "plt.xlabel('velocity');\n",
    "plt.ylabel('Occurence');"
   ]
  },
  {
   "cell_type": "code",
   "execution_count": null,
   "metadata": {},
   "outputs": [],
   "source": [
    "plt.hist(angles, bins=100)\n",
    "plt.xlabel('angle');\n",
    "plt.ylabel('Occurence');"
   ]
  },
  {
   "cell_type": "code",
   "execution_count": null,
   "metadata": {},
   "outputs": [],
   "source": [
    "plt.hist(angular_velocities, bins=100)\n",
    "plt.xlabel('angular_velocity');\n",
    "plt.ylabel('Occurence');"
   ]
  },
  {
   "cell_type": "markdown",
   "metadata": {},
   "source": [
    "## Learning the Q-table"
   ]
  },
  {
   "cell_type": "code",
   "execution_count": null,
   "metadata": {},
   "outputs": [],
   "source": [
    "granularity = 16\n",
    "\n",
    "nb_columns = env.action_space.n\n",
    "nb_rows = pow(granularity, 4)  # 4 because the obs is a vector of 4 information\n",
    "\n",
    "Q = np.zeros([nb_rows, nb_columns])  # our table of Q values\n",
    "print(\"The Q-table is of shape:\" + str(Q.shape))\n",
    "\n",
    "nb_times_visited = np.zeros([nb_rows, nb_columns])"
   ]
  },
  {
   "cell_type": "code",
   "execution_count": null,
   "metadata": {},
   "outputs": [],
   "source": [
    "def obs_2_row_index(obs,\n",
    "                    granularity,\n",
    "                    position_min=-2.4, position_max=2.4,\n",
    "                    velocity_min=-3, velocity_max=3,\n",
    "                    angle_min=-0.3, angle_max=0.3,\n",
    "                    angular_velocity_min=-2, angular_velocity_max=2\n",
    "                   ):\n",
    "    assert granularity >= 2\n",
    "    assert isinstance(granularity, int)\n",
    "    \n",
    "    position, velocity, angle, angular_velocity = obs\n",
    "    \n",
    "    discretized_positions = np.linspace(position_min, position_max, num=granularity-1)\n",
    "    discretized_velocities = np.linspace(velocity_min, velocity_max, num=granularity-1)\n",
    "    discretized_angles = np.linspace(angle_min, angle_max, num=granularity-1)\n",
    "    discretized_angular_velocities = np.linspace(angular_velocity_min, angular_velocity_max, num=granularity-1)\n",
    "    \n",
    "    position_index = bisect.bisect_left(discretized_positions, position)\n",
    "    velocity_index = bisect.bisect_left(discretized_velocities, velocity)\n",
    "    angle_index = bisect.bisect_left(discretized_angles, angle)\n",
    "    angular_velocity_index = bisect.bisect_left(discretized_angular_velocities, angular_velocity)\n",
    "    \n",
    "    row_index = math.pow(granularity, 0) * position_index \\\n",
    "                + math.pow(granularity, 1) * velocity_index \\\n",
    "                + math.pow(granularity, 2) * angle_index \\\n",
    "                + math.pow(granularity, 3) * angular_velocity_index\n",
    "    row_index = int(row_index)\n",
    "                \n",
    "    return row_index"
   ]
  },
  {
   "cell_type": "code",
   "execution_count": null,
   "metadata": {},
   "outputs": [],
   "source": [
    "nb_training_episodes = 5000\n",
    "learning_rate = 0.2\n",
    "discount_rate = 1\n",
    "epsilon_exploration = 0.5\n",
    "exploration_decay_rate = 0.999\n",
    "target_nb_moves = 500\n",
    "accumulated_scores_records = []\n",
    "\n",
    "for episode in range(0, nb_training_episodes):\n",
    "    step = 0\n",
    "    done = False\n",
    "    episode_score, reward = 0, 0    \n",
    "    obs = env.reset()\n",
    "    while not done:         \n",
    "        row_index = obs_2_row_index(obs, granularity)\n",
    "        \n",
    "        if random.uniform(0, 1) > epsilon_exploration:\n",
    "            action = np.argmax(Q[row_index])\n",
    "        else:\n",
    "            action = np.random.randint(0, 2)\n",
    "        \n",
    "        col_index = action        \n",
    "        new_obs, reward, done, info = env.step(action)\n",
    "        episode_score += reward\n",
    "        if done:\n",
    "            reward = step - target_nb_moves\n",
    "        new_row_index = obs_2_row_index(new_obs, granularity)   \n",
    "        Q[row_index, col_index] += learning_rate \\\n",
    "                                   * (reward + discount_rate * np.max(Q[new_row_index]) - Q[row_index, col_index])\n",
    "        nb_times_visited[row_index, col_index] += 1\n",
    "        \n",
    "        obs = new_obs\n",
    "        step += 1\n",
    "        \n",
    "    accumulated_scores_records.append(episode_score)\n",
    "    if episode % 50 == 0:\n",
    "        print('Episode {} - score: {}'.format(episode, episode_score))\n",
    "    epsilon_exploration = epsilon_exploration * exploration_decay_rate"
   ]
  },
  {
   "cell_type": "code",
   "execution_count": null,
   "metadata": {},
   "outputs": [],
   "source": [
    "plt.plot(accumulated_scores_records)\n",
    "plt.xlabel('episode')\n",
    "plt.ylabel('rewards')\n",
    "plt.show()"
   ]
  },
  {
   "cell_type": "code",
   "execution_count": null,
   "metadata": {},
   "outputs": [],
   "source": [
    "# save table\n",
    "save_folder = os.path.join(\".\", \"save\")\n",
    "if not os.path.isdir(save_folder):\n",
    "    os.makedirs(save_folder)\n",
    "q_table_save_file = os.path.join(save_folder, \"q_table_{}.npy\".format(granularity))\n",
    "np.save(q_table_save_file, Q)\n",
    "\n",
    "q_table_csv_save_file = os.path.join(save_folder, \"q_table_{}.csv\".format(granularity))\n",
    "np.savetxt(q_table_csv_save_file, Q, delimiter=\";\")\n",
    "\n",
    "nb_times_visited_csv_save_file = os.path.join(save_folder, \"nb_times_visited_{}.csv\".format(granularity))\n",
    "np.savetxt(nb_times_visited_csv_save_file, nb_times_visited, delimiter=\";\")"
   ]
  },
  {
   "cell_type": "markdown",
   "metadata": {},
   "source": [
    "## Exploiting the Q-table"
   ]
  },
  {
   "cell_type": "code",
   "execution_count": null,
   "metadata": {},
   "outputs": [],
   "source": [
    "# load_table\n",
    "q_table_save_file = os.path.join(\".\", \"save\", \"q_table_{}.npy\".format(granularity))\n",
    "if not os.path.isfile(q_table_save_file):\n",
    "    print(\"file *{}* not found!!\".format(q_table_save_file))\n",
    "else:\n",
    "    Q = np.load(q_table_save_file)"
   ]
  },
  {
   "cell_type": "code",
   "execution_count": null,
   "metadata": {},
   "outputs": [],
   "source": [
    "def run_episode_q_learning(Q):    \n",
    "    obs = env.reset()\n",
    "    done = False\n",
    "    final_score = 0\n",
    "    while not done:        \n",
    "        row_index = obs_2_row_index(obs, granularity)\n",
    "        action = np.argmax(Q[row_index])\n",
    "        obs, reward, done, info = env.step(action)\n",
    "        final_score += reward\n",
    "    return final_score"
   ]
  },
  {
   "cell_type": "code",
   "execution_count": null,
   "metadata": {},
   "outputs": [],
   "source": [
    "scores = []\n",
    "nb_episodes = 100\n",
    "\n",
    "for i in range(0, nb_episodes):\n",
    "    episode_score = run_episode_q_learning(Q)\n",
    "    scores.append(episode_score)"
   ]
  },
  {
   "cell_type": "code",
   "execution_count": null,
   "metadata": {},
   "outputs": [],
   "source": [
    "print(np.mean(scores))\n",
    "plt.plot(scores)"
   ]
  },
  {
   "cell_type": "markdown",
   "metadata": {},
   "source": [
    "# Policy gradient"
   ]
  },
  {
   "cell_type": "markdown",
   "metadata": {},
   "source": [
    "## Computational graph"
   ]
  },
  {
   "cell_type": "code",
   "execution_count": null,
   "metadata": {},
   "outputs": [],
   "source": [
    "nb_neurons_input = 4  # len(obs)\n",
    "nb_neurons_hidden_layer = 4\n",
    "nb_neurons_output = 1\n",
    "\n",
    "X = tf.placeholder(shape=[None, nb_neurons_input], dtype=tf.float32, name=\"X\")\n",
    "\n",
    "with tf.name_scope(\"dnn\"): \n",
    "    initializer_w = tf.contrib.layers.xavier_initializer()\n",
    "    initializer_b = tf.zeros_initializer() \n",
    "    hidden = tf.layers.dense(X, nb_neurons_hidden_layer, \\\n",
    "                             activation=tf.nn.elu, \\\n",
    "                             kernel_initializer=tf.contrib.layers.xavier_initializer(), \\\n",
    "                             name=\"hidden\")\n",
    "    output = tf.layers.dense(hidden, nb_neurons_output, \n",
    "                             activation=tf.nn.sigmoid,\n",
    "                             name=\"output\")  # proba of moving kart to left\n",
    "\n",
    "init = tf.global_variables_initializer()"
   ]
  },
  {
   "cell_type": "markdown",
   "metadata": {},
   "source": [
    "## Playing an episode - before training"
   ]
  },
  {
   "cell_type": "code",
   "execution_count": null,
   "metadata": {},
   "outputs": [],
   "source": [
    "def run_episode_neural_network():    \n",
    "    with tf.Session() as sess:\n",
    "        init.run()\n",
    "        obs = env.reset()\n",
    "        obs_pretty = obs.reshape(1, nb_neurons_input)\n",
    "        done = False\n",
    "        final_score = 0\n",
    "        while not done: \n",
    "            proba_move_to_left = output.eval(feed_dict={X: obs_pretty})        \n",
    "            if random.uniform(0, 1) < proba_move_to_left:\n",
    "                action = 0  # move to left\n",
    "            else:\n",
    "                action = 1       \n",
    "            obs, reward, done, info = env.step(action) \n",
    "            if done:\n",
    "                break\n",
    "            final_score += reward\n",
    "    return final_score"
   ]
  },
  {
   "cell_type": "code",
   "execution_count": null,
   "metadata": {},
   "outputs": [],
   "source": [
    "scores = []\n",
    "nb_episodes = 100\n",
    "\n",
    "for i in range(0, nb_episodes):\n",
    "    episode_score = run_episode_neural_network()\n",
    "    scores.append(episode_score)"
   ]
  },
  {
   "cell_type": "code",
   "execution_count": null,
   "metadata": {},
   "outputs": [],
   "source": [
    "print(np.mean(scores))\n",
    "plt.plot(scores)"
   ]
  },
  {
   "cell_type": "markdown",
   "metadata": {},
   "source": [
    "## Training the neural net to imitate the human crafted policy"
   ]
  },
  {
   "cell_type": "code",
   "execution_count": null,
   "metadata": {},
   "outputs": [],
   "source": [
    "tf.reset_default_graph()\n",
    "\n",
    "nb_neurons_input = 4  # len(obs)\n",
    "nb_neurons_hidden_layer = 4\n",
    "nb_neurons_output = 1\n",
    "learning_rate = 0.01\n",
    "\n",
    "X = tf.placeholder(tf.float32, shape=[None, nb_neurons_input], name=\"X\")\n",
    "y = tf.placeholder(tf.float32, shape=[None, nb_neurons_output], name=\"y\")\n",
    "\n",
    "with tf.name_scope(\"dnn\"): \n",
    "    initializer_w = tf.contrib.layers.xavier_initializer()\n",
    "    initializer_b = tf.zeros_initializer() \n",
    "    \n",
    "    hidden = tf.layers.dense(X, nb_neurons_hidden_layer, \\\n",
    "                             activation=tf.nn.elu, \\\n",
    "                             kernel_initializer=tf.contrib.layers.xavier_initializer(), \\\n",
    "                             name=\"hidden\")\n",
    "    logits = tf.layers.dense(hidden, nb_neurons_output, \n",
    "                             name=\"logits\")  \n",
    "    estimated_action_value = tf.nn.sigmoid(logits, name=\"estimated_action_value\")  # 0 => left, 1 => right\n",
    "    p_left_and_right = tf.concat(axis=1, values=[1 - estimated_action_value, estimated_action_value])\n",
    "    estimated_action = tf.multinomial(tf.log(p_left_and_right), num_samples=1)\n",
    "\n",
    "cross_entropy = tf.nn.sigmoid_cross_entropy_with_logits(labels=y, logits=logits)\n",
    "optimizer = tf.train.AdamOptimizer(learning_rate)\n",
    "training_op = optimizer.minimize(cross_entropy)\n",
    "\n",
    "init = tf.global_variables_initializer()\n",
    "saver = tf.train.Saver()"
   ]
  },
  {
   "cell_type": "code",
   "execution_count": null,
   "metadata": {},
   "outputs": [],
   "source": [
    "nb_training_episode = 2000\n",
    "tf_logs_dir = os.path.join(\".\", \"save\", \"tf_logs\", \"imitation_neural_net\")\n",
    "if not os.path.isdir(tf_logs_dir):\n",
    "    os.makedirs(tf_logs_dir)\n",
    "tf_log_file = os.path.join(tf_logs_dir, \"imitation_neural_net.ckpt\")\n",
    "\n",
    "with tf.Session() as sess:\n",
    "    init.run()\n",
    "    for episode in range(nb_training_episode):\n",
    "        step = 0\n",
    "        done = False\n",
    "        episode_score, reward = 0, 0    \n",
    "        obs = env.reset()\n",
    "        while not done:         \n",
    "            position, velocity, angle, angular_velocity = obs\n",
    "            obs_pretty = obs.reshape(1, nb_neurons_input)\n",
    "            target_action = human_decision(angle)\n",
    "            target_action = np.array([target_action]).reshape(1, 1)     \n",
    "            action_val, _ = sess.run([estimated_action, training_op], feed_dict={X: obs_pretty, y: target_action})  \n",
    "            selected_action = action_val[0][0]            \n",
    "            obs, reward, done, info = env.step(selected_action)                \n",
    "    saver.save(sess, tf_log_file)"
   ]
  },
  {
   "cell_type": "code",
   "execution_count": null,
   "metadata": {},
   "outputs": [],
   "source": [
    "def run_episode_neural_network(tf_log_file): \n",
    "    with tf.Session() as sess:\n",
    "        saver.restore(sess, tf_log_file)\n",
    "        obs = env.reset()\n",
    "        done = False\n",
    "        final_score = 0\n",
    "        while not done: \n",
    "            obs_pretty = obs.reshape(1, nb_neurons_input)\n",
    "            estimated_action = estimated_action_value.eval(feed_dict={X: obs_pretty}) \n",
    "            estimated_action = estimated_action[0][0]    \n",
    "            if estimated_action > 0.5:\n",
    "                action = 1\n",
    "            else:\n",
    "                action = 0  \n",
    "            obs, reward, done, info = env.step(action)\n",
    "            final_score += reward\n",
    "    return final_score"
   ]
  },
  {
   "cell_type": "code",
   "execution_count": null,
   "metadata": {},
   "outputs": [],
   "source": [
    "tf_logs_dir = os.path.join(\".\", \"save\", \"tf_logs\", \"imitation_neural_net\")\n",
    "if not os.path.isdir(tf_logs_dir):\n",
    "    os.makedirs(tf_logs_dir)\n",
    "tf_log_file = os.path.join(tf_logs_dir, \"imitation_neural_net.ckpt\")"
   ]
  },
  {
   "cell_type": "code",
   "execution_count": null,
   "metadata": {},
   "outputs": [],
   "source": [
    "scores = []\n",
    "nb_episodes = 100\n",
    "\n",
    "for i in range(0, nb_episodes):\n",
    "    episode_score = run_episode_neural_network(tf_log_file)\n",
    "    scores.append(episode_score)"
   ]
  },
  {
   "cell_type": "code",
   "execution_count": null,
   "metadata": {},
   "outputs": [],
   "source": [
    "print(np.mean(scores))\n",
    "plt.plot(scores)"
   ]
  },
  {
   "cell_type": "markdown",
   "metadata": {},
   "source": [
    "## Actual policy gradient"
   ]
  },
  {
   "cell_type": "code",
   "execution_count": 4,
   "metadata": {},
   "outputs": [],
   "source": [
    "tf.reset_default_graph()\n",
    "\n",
    "nb_neurons_input = 4  # len(obs)\n",
    "nb_neurons_hidden_layer = 4\n",
    "nb_neurons_output = 1\n",
    "learning_rate = 0.01\n",
    "\n",
    "X = tf.placeholder(tf.float32, shape=[None, nb_neurons_input], name=\"X\")\n",
    "y = tf.placeholder(tf.float32, shape=[None, nb_neurons_output], name=\"y\")\n",
    "\n",
    "with tf.name_scope(\"dnn\"): \n",
    "    initializer_w = tf.contrib.layers.xavier_initializer()\n",
    "    initializer_b = tf.zeros_initializer() \n",
    "    \n",
    "    hidden = tf.layers.dense(X, nb_neurons_hidden_layer, \\\n",
    "                             activation=tf.nn.elu, \\\n",
    "                             kernel_initializer=tf.contrib.layers.xavier_initializer(), \\\n",
    "                             name=\"hidden\")\n",
    "    logits = tf.layers.dense(hidden, nb_neurons_output, \n",
    "                             name=\"logits\")  \n",
    "    estimated_action_value = tf.nn.sigmoid(logits, name=\"estimated_action_value\")  # 0 => left, 1 => right\n",
    "    p_left_and_right = tf.concat(axis=1, values=[1 - estimated_action_value, estimated_action_value])\n",
    "    tentative_action = tf.multinomial(tf.log(p_left_and_right), num_samples=1)\n",
    "\n",
    "    \n",
    "    \n",
    "y = tf.to_float(tentative_action)\n",
    "cross_entropy = tf.nn.sigmoid_cross_entropy_with_logits(labels=y, logits=logits)\n",
    "optimizer = tf.train.AdamOptimizer(learning_rate)\n",
    "grads_and_vars = optimizer.compute_gradients(cross_entropy)\n",
    "gradients = [grad for grad, variable in grads_and_vars]\n",
    "gradient_placeholders = []\n",
    "grads_and_vars_feed = []\n",
    "for grad, variable in grads_and_vars:\n",
    "    gradient_placeholder = tf.placeholder(tf.float32, shape=grad.get_shape())\n",
    "    gradient_placeholders.append(gradient_placeholder)\n",
    "    grads_and_vars_feed.append((gradient_placeholder, variable))\n",
    "training_op = optimizer.apply_gradients(grads_and_vars_feed)\n",
    "    \n",
    "init = tf.global_variables_initializer()\n",
    "saver = tf.train.Saver()"
   ]
  },
  {
   "cell_type": "code",
   "execution_count": 5,
   "metadata": {},
   "outputs": [],
   "source": [
    "def discount_rewards(rewards, discount_rate):\n",
    "    discounted_rewards = np.zeros(len(rewards))\n",
    "    cumulative_rewards = 0\n",
    "    for step in reversed(range(len(rewards))):\n",
    "        cumulative_rewards = rewards[step] + cumulative_rewards * discount_rate\n",
    "        discounted_rewards[step] = cumulative_rewards\n",
    "    return discounted_rewards\n",
    "\n",
    "def discount_and_normalize_rewards(all_rewards, discount_rate):\n",
    "    all_discounted_rewards = [discount_rewards(rewards, discount_rate) for rewards in all_rewards]\n",
    "    flat_rewards = np.concatenate(all_discounted_rewards)\n",
    "    reward_mean = flat_rewards.mean()\n",
    "    reward_std = flat_rewards.std()\n",
    "    return [(discounted_rewards - reward_mean) / reward_std for discounted_rewards in all_discounted_rewards]"
   ]
  },
  {
   "cell_type": "code",
   "execution_count": null,
   "metadata": {},
   "outputs": [],
   "source": []
  },
  {
   "cell_type": "code",
   "execution_count": 6,
   "metadata": {},
   "outputs": [],
   "source": [
    "tf.reset_default_graph()\n",
    "\n",
    "nb_neurons_input = 4  # len(obs)\n",
    "nb_neurons_hidden_layer = 4\n",
    "nb_neurons_output = 1\n",
    "\n",
    "learning_rate = 0.01\n",
    "\n",
    "X = tf.placeholder(tf.float32, shape=[None, nb_neurons_input])\n",
    "\n",
    "with tf.name_scope(\"dnn\"): \n",
    "    initializer_w = tf.contrib.layers.xavier_initializer()\n",
    "    initializer_b = tf.zeros_initializer() \n",
    "    \n",
    "    hidden = tf.layers.dense(X, nb_neurons_hidden_layer, \\\n",
    "                             activation=tf.nn.elu, \\\n",
    "                             kernel_initializer=tf.contrib.layers.xavier_initializer(), \\\n",
    "                             name=\"hidden\")\n",
    "    logits = tf.layers.dense(hidden, nb_neurons_output, \n",
    "                             name=\"logits\")  \n",
    "    estimated_action_value = tf.nn.sigmoid(logits, name=\"estimated_action_value\")  # 0 => left, 1 => right\n",
    "    p_left_and_right = tf.concat(axis=1, values=[1 - estimated_action_value, estimated_action_value])\n",
    "    tentative_action = tf.multinomial(tf.log(p_left_and_right), num_samples=1)\n",
    "\n",
    "y = tf.to_float(tentative_action)\n",
    "cross_entropy = tf.nn.sigmoid_cross_entropy_with_logits(labels=y, logits=logits)\n",
    "optimizer = tf.train.AdamOptimizer(learning_rate)\n",
    "grads_and_vars = optimizer.compute_gradients(cross_entropy)\n",
    "gradients = [grad for grad, variable in grads_and_vars]\n",
    "gradient_placeholders = []\n",
    "grads_and_vars_feed = []\n",
    "for grad, variable in grads_and_vars:\n",
    "    gradient_placeholder = tf.placeholder(tf.float32, shape=grad.get_shape())\n",
    "    gradient_placeholders.append(gradient_placeholder)\n",
    "    grads_and_vars_feed.append((gradient_placeholder, variable))\n",
    "training_op = optimizer.apply_gradients(grads_and_vars_feed)\n",
    "\n",
    "init = tf.global_variables_initializer()\n",
    "saver = tf.train.Saver()"
   ]
  },
  {
   "cell_type": "code",
   "execution_count": 10,
   "metadata": {},
   "outputs": [
    {
     "name": "stdout",
     "output_type": "stream",
     "text": [
      "Episode: 0\n",
      "Episode: 1\n",
      "Episode: 2\n",
      "Episode: 3\n",
      "Episode: 4\n",
      "Episode: 5\n",
      "Episode: 6\n",
      "Episode: 7\n",
      "Episode: 8\n",
      "Episode: 9\n",
      "Episode: 10\n",
      "Episode: 11\n",
      "Episode: 12\n",
      "Episode: 13\n",
      "Episode: 14\n",
      "Episode: 15\n",
      "Episode: 16\n",
      "Episode: 17\n",
      "Episode: 18\n",
      "Episode: 19\n",
      "Episode: 20\n",
      "Episode: 21\n",
      "Episode: 22\n",
      "Episode: 23\n",
      "Episode: 24\n",
      "Episode: 25\n",
      "Episode: 26\n",
      "Episode: 27\n",
      "Episode: 28\n",
      "Episode: 29\n",
      "Episode: 30\n",
      "Episode: 31\n",
      "Episode: 32\n",
      "Episode: 33\n",
      "Episode: 34\n",
      "Episode: 35\n",
      "Episode: 36\n",
      "Episode: 37\n",
      "Episode: 38\n",
      "Episode: 39\n",
      "Episode: 40\n",
      "Episode: 41\n",
      "Episode: 42\n",
      "Episode: 43\n",
      "Episode: 44\n",
      "Episode: 45\n",
      "Episode: 46\n",
      "Episode: 47\n",
      "Episode: 48\n",
      "Episode: 49\n",
      "Episode: 50\n",
      "Episode: 51\n",
      "Episode: 52\n",
      "Episode: 53\n",
      "Episode: 54\n",
      "Episode: 55\n",
      "Episode: 56\n",
      "Episode: 57\n",
      "Episode: 58\n",
      "Episode: 59\n",
      "Episode: 60\n",
      "Episode: 61\n",
      "Episode: 62\n",
      "Episode: 63\n",
      "Episode: 64\n",
      "Episode: 65\n",
      "Episode: 66\n",
      "Episode: 67\n",
      "Episode: 68\n",
      "Episode: 69\n",
      "Episode: 70\n",
      "Episode: 71\n",
      "Episode: 72\n",
      "Episode: 73\n",
      "Episode: 74\n",
      "Episode: 75\n",
      "Episode: 76\n",
      "Episode: 77\n",
      "Episode: 78\n",
      "Episode: 79\n",
      "Episode: 80\n",
      "Episode: 81\n",
      "Episode: 82\n",
      "Episode: 83\n",
      "Episode: 84\n",
      "Episode: 85\n",
      "Episode: 86\n",
      "Episode: 87\n",
      "Episode: 88\n",
      "Episode: 89\n",
      "Episode: 90\n",
      "Episode: 91\n",
      "Episode: 92\n",
      "Episode: 93\n",
      "Episode: 94\n",
      "Episode: 95\n",
      "Episode: 96\n",
      "Episode: 97\n",
      "Episode: 98\n",
      "Episode: 99\n",
      "Episode: 100\n",
      "Episode: 101\n",
      "Episode: 102\n",
      "Episode: 103\n",
      "Episode: 104\n",
      "Episode: 105\n",
      "Episode: 106\n",
      "Episode: 107\n",
      "Episode: 108\n",
      "Episode: 109\n",
      "Episode: 110\n",
      "Episode: 111\n",
      "Episode: 112\n",
      "Episode: 113\n",
      "Episode: 114\n",
      "Episode: 115\n",
      "Episode: 116\n",
      "Episode: 117\n",
      "Episode: 118\n",
      "Episode: 119\n",
      "Episode: 120\n",
      "Episode: 121\n",
      "Episode: 122\n",
      "Episode: 123\n",
      "Episode: 124\n",
      "Episode: 125\n",
      "Episode: 126\n",
      "Episode: 127\n",
      "Episode: 128\n",
      "Episode: 129\n",
      "Episode: 130\n",
      "Episode: 131\n",
      "Episode: 132\n",
      "Episode: 133\n",
      "Episode: 134\n",
      "Episode: 135\n",
      "Episode: 136\n",
      "Episode: 137\n",
      "Episode: 138\n",
      "Episode: 139\n",
      "Episode: 140\n",
      "Episode: 141\n",
      "Episode: 142\n",
      "Episode: 143\n",
      "Episode: 144\n",
      "Episode: 145\n",
      "Episode: 146\n",
      "Episode: 147\n",
      "Episode: 148\n",
      "Episode: 149\n",
      "Episode: 150\n",
      "Episode: 151\n",
      "Episode: 152\n",
      "Episode: 153\n",
      "Episode: 154\n",
      "Episode: 155\n",
      "Episode: 156\n",
      "Episode: 157\n",
      "Episode: 158\n",
      "Episode: 159\n",
      "Episode: 160\n",
      "Episode: 161\n",
      "Episode: 162\n",
      "Episode: 163\n",
      "Episode: 164\n",
      "Episode: 165\n",
      "Episode: 166\n",
      "Episode: 167\n",
      "Episode: 168\n",
      "Episode: 169\n",
      "Episode: 170\n",
      "Episode: 171\n",
      "Episode: 172\n",
      "Episode: 173\n",
      "Episode: 174\n",
      "Episode: 175\n",
      "Episode: 176\n",
      "Episode: 177\n",
      "Episode: 178\n",
      "Episode: 179\n",
      "Episode: 180\n",
      "Episode: 181\n",
      "Episode: 182\n",
      "Episode: 183\n",
      "Episode: 184\n",
      "Episode: 185\n",
      "Episode: 186\n",
      "Episode: 187\n",
      "Episode: 188\n",
      "Episode: 189\n",
      "Episode: 190\n",
      "Episode: 191\n",
      "Episode: 192\n",
      "Episode: 193\n",
      "Episode: 194\n",
      "Episode: 195\n",
      "Episode: 196\n",
      "Episode: 197\n",
      "Episode: 198\n",
      "Episode: 199\n",
      "Episode: 200\n",
      "Episode: 201\n",
      "Episode: 202\n",
      "Episode: 203\n",
      "Episode: 204\n",
      "Episode: 205\n",
      "Episode: 206\n",
      "Episode: 207\n",
      "Episode: 208\n",
      "Episode: 209\n",
      "Episode: 210\n",
      "Episode: 211\n",
      "Episode: 212\n",
      "Episode: 213\n",
      "Episode: 214\n",
      "Episode: 215\n",
      "Episode: 216\n",
      "Episode: 217\n",
      "Episode: 218\n",
      "Episode: 219\n",
      "Episode: 220\n",
      "Episode: 221\n",
      "Episode: 222\n",
      "Episode: 223\n",
      "Episode: 224\n",
      "Episode: 225\n",
      "Episode: 226\n",
      "Episode: 227\n",
      "Episode: 228\n",
      "Episode: 229\n",
      "Episode: 230\n",
      "Episode: 231\n",
      "Episode: 232\n",
      "Episode: 233\n",
      "Episode: 234\n",
      "Episode: 235\n",
      "Episode: 236\n",
      "Episode: 237\n",
      "Episode: 238\n",
      "Episode: 239\n",
      "Episode: 240\n",
      "Episode: 241\n",
      "Episode: 242\n",
      "Episode: 243\n",
      "Episode: 244\n",
      "Episode: 245\n",
      "Episode: 246\n",
      "Episode: 247\n",
      "Episode: 248\n",
      "Episode: 249\n"
     ]
    }
   ],
   "source": [
    "n_games_per_update = 10\n",
    "#n_max_steps = 1000\n",
    "nb_training_episode = 250\n",
    "save_iterations = 10\n",
    "discount_rate = 0.95\n",
    "tf_logs_dir = os.path.join(\".\", \"save\", \"tf_logs\", \"policy_gradient_neural_net\")\n",
    "if not os.path.isdir(tf_logs_dir):\n",
    "    os.makedirs(tf_logs_dir)\n",
    "tf_log_file = os.path.join(tf_logs_dir, \"policy_gradient_neural_net.ckpt\")\n",
    "\n",
    "with tf.Session() as sess:\n",
    "    init.run()  # TODO: restore the previous network which imitates the human behaviour\n",
    "    for training_episode in range(nb_training_episode):\n",
    "        print(\"Episode: {}\".format(training_episode))\n",
    "        done = False\n",
    "        all_rewards = []\n",
    "        all_gradients = []\n",
    "        for game in range(n_games_per_update):\n",
    "            current_rewards = []\n",
    "            current_gradients = []\n",
    "            obs = env.reset()\n",
    "            while not done: \n",
    "                action_val, gradients_val = sess.run([tentative_action, gradients], feed_dict={X: obs.reshape(1, nb_neurons_input)})\n",
    "                obs, reward, done, info = env.step(action_val[0][0])\n",
    "                current_rewards.append(reward)\n",
    "                current_gradients.append(gradients_val)\n",
    "            all_rewards.append(current_rewards)\n",
    "            all_gradients.append(current_gradients)\n",
    "\n",
    "        all_rewards = discount_and_normalize_rewards(all_rewards, discount_rate=discount_rate)\n",
    "        feed_dict = {}\n",
    "        for var_index, gradient_placeholder in enumerate(gradient_placeholders):\n",
    "            mean_gradients = np.mean([reward * all_gradients[game_index][step][var_index]\n",
    "                                      for game_index, rewards in enumerate(all_rewards)\n",
    "                                          for step, reward in enumerate(rewards)], axis=0)\n",
    "            feed_dict[gradient_placeholder] = mean_gradients\n",
    "        sess.run(training_op, feed_dict=feed_dict)\n",
    "        if training_episode % save_iterations == 0:\n",
    "            saver.save(sess, tf_log_file)"
   ]
  },
  {
   "cell_type": "code",
   "execution_count": null,
   "metadata": {},
   "outputs": [],
   "source": []
  },
  {
   "cell_type": "code",
   "execution_count": null,
   "metadata": {},
   "outputs": [],
   "source": []
  },
  {
   "cell_type": "code",
   "execution_count": 11,
   "metadata": {},
   "outputs": [],
   "source": [
    "def run_episode_neural_network(tf_log_file): \n",
    "    with tf.Session() as sess:\n",
    "        saver.restore(sess, tf_log_file)\n",
    "        obs = env.reset()\n",
    "        done = False\n",
    "        final_score = 0\n",
    "        while not done: \n",
    "            obs_pretty = obs.reshape(1, nb_neurons_input)\n",
    "            estimated_action = estimated_action_value.eval(feed_dict={X: obs_pretty}) \n",
    "            estimatedestimated_action_action = estimated_action[0][0]    \n",
    "            if estimated_action > 0.5:\n",
    "                action = 1\n",
    "            else:\n",
    "                action = 0  \n",
    "            obs, reward, done, info = env.step(action)\n",
    "            final_score += reward\n",
    "    return final_score"
   ]
  },
  {
   "cell_type": "code",
   "execution_count": 12,
   "metadata": {},
   "outputs": [],
   "source": [
    "tf_logs_dir = os.path.join(\".\", \"save\", \"tf_logs\", \"policy_gradient_neural_net\")\n",
    "if not os.path.isdir(tf_logs_dir):\n",
    "    os.makedirs(tf_logs_dir)\n",
    "tf_log_file = os.path.join(tf_logs_dir, \"policy_gradient_neural_net.ckpt\")"
   ]
  },
  {
   "cell_type": "code",
   "execution_count": 13,
   "metadata": {},
   "outputs": [],
   "source": [
    "scores = []\n",
    "nb_episodes = 100\n",
    "\n",
    "for i in range(0, nb_episodes):\n",
    "    episode_score = run_episode_neural_network(tf_log_file)\n",
    "    scores.append(episode_score)"
   ]
  },
  {
   "cell_type": "code",
   "execution_count": 14,
   "metadata": {},
   "outputs": [
    {
     "name": "stdout",
     "output_type": "stream",
     "text": [
      "423.49\n"
     ]
    },
    {
     "data": {
      "text/plain": [
       "[<matplotlib.lines.Line2D at 0x7f5ed042e9b0>]"
      ]
     },
     "execution_count": 14,
     "metadata": {},
     "output_type": "execute_result"
    },
    {
     "data": {
      "image/png": "[encoded data removed]",
      "text/plain": [
       "<Figure size 432x288 with 1 Axes>"
      ]
     },
     "metadata": {},
     "output_type": "display_data"
    }
   ],
   "source": [
    "print(np.mean(scores))\n",
    "plt.plot(scores)"
   ]
  },
  {
   "cell_type": "code",
   "execution_count": null,
   "metadata": {},
   "outputs": [],
   "source": []
  },
  {
   "cell_type": "code",
   "execution_count": null,
   "metadata": {},
   "outputs": [],
   "source": []
  }
 ],
 "metadata": {
  "kernelspec": {
   "display_name": "Python 3",
   "language": "python",
   "name": "python3"
  },
  "language_info": {
   "codemirror_mode": {
    "name": "ipython",
    "version": 3
   },
   "file_extension": ".py",
   "mimetype": "text/x-python",
   "name": "python",
   "nbconvert_exporter": "python",
   "pygments_lexer": "ipython3",
   "version": "3.6.7"
  }
 },
 "nbformat": 4,
 "nbformat_minor": 2
}
