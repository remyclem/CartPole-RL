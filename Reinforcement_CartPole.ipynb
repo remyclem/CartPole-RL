{
 "cells": [
  {
   "cell_type": "markdown",
   "metadata": {},
   "source": [
    "# Template for reinforcement learning applied to the CartPole benchmark\n",
    "\n",
    "A lot of (better) code taken from https://github.com/ageron/handson-ml"
   ]
  },
  {
   "cell_type": "markdown",
   "metadata": {},
   "source": [
    "# Settings"
   ]
  },
  {
   "cell_type": "code",
   "execution_count": 12,
   "metadata": {},
   "outputs": [],
   "source": [
    "%matplotlib inline\n",
    "\n",
    "import matplotlib\n",
    "import matplotlib.pyplot as plt\n",
    "import gym\n",
    "import numpy as np\n",
    "import bisect\n",
    "import math\n",
    "import os\n",
    "import random\n",
    "import tensorflow as tf\n",
    "\n",
    "from agents.random_agent import run_episode_random_agent\n",
    "from agents.human_crafted_agent import human_decision, run_episode_human_crafted_agent\n",
    "\n",
    "tf.logging.set_verbosity(tf.logging.WARN)  # Remove Info logs"
   ]
  },
  {
   "cell_type": "code",
   "execution_count": 13,
   "metadata": {},
   "outputs": [],
   "source": [
    "env = gym.make(\"CartPole-v1\")"
   ]
  },
  {
   "cell_type": "code",
   "execution_count": 17,
   "metadata": {},
   "outputs": [
    {
     "name": "stdout",
     "output_type": "stream",
     "text": [
      "Discrete(2)\n",
      "[-0.03492443 -0.01343875 -0.00758664 -0.00111444]\n",
      "500\n",
      "4\n"
     ]
    }
   ],
   "source": [
    "print(env.action_space)  # 0 or 1\n",
    "\n",
    "obs = env.reset()\n",
    "print(obs)  # position, velocity, angle, angular_velocity\n",
    "print(env._max_episode_steps)\n",
    "\n",
    "observation_space_dimension = env.observation_space.shape[0]\n",
    "print(observation_space_dimension)"
   ]
  },
  {
   "cell_type": "markdown",
   "metadata": {},
   "source": [
    "# Q-learning"
   ]
  },
  {
   "cell_type": "markdown",
   "metadata": {},
   "source": [
    "## Observing the values"
   ]
  },
  {
   "cell_type": "code",
   "execution_count": 18,
   "metadata": {},
   "outputs": [],
   "source": [
    "nb_episodes = 1000\n",
    "positions = []\n",
    "velocities = []\n",
    "angles = []\n",
    "angular_velocities = []\n",
    "\n",
    "for episode in range(0, nb_episodes):\n",
    "    obs = env.reset()\n",
    "    done = False\n",
    "    final_score = 0\n",
    "\n",
    "    while not done:\n",
    "        action = env.action_space.sample()\n",
    "        obs, reward, done, info = env.step(action)\n",
    "        position, velocity, angle, angular_velocity = obs\n",
    "        positions.append(position)\n",
    "        velocities.append(velocity)\n",
    "        angles.append(angle)\n",
    "        angular_velocities.append(angular_velocity)        "
   ]
  },
  {
   "cell_type": "code",
   "execution_count": 19,
   "metadata": {},
   "outputs": [
    {
     "data": {
      "image/png": "[encoded data removed]",
      "text/plain": [
       "<Figure size 432x288 with 1 Axes>"
      ]
     },
     "metadata": {},
     "output_type": "display_data"
    }
   ],
   "source": [
    "plt.hist(positions, bins=100)\n",
    "plt.xlabel('position');\n",
    "plt.ylabel('Occurence');"
   ]
  },
  {
   "cell_type": "code",
   "execution_count": 20,
   "metadata": {},
   "outputs": [
    {
     "data": {
      "image/png": "[encoded data removed]",
      "text/plain": [
       "<Figure size 432x288 with 1 Axes>"
      ]
     },
     "metadata": {},
     "output_type": "display_data"
    }
   ],
   "source": [
    "plt.hist(velocities, bins=100)\n",
    "plt.xlabel('velocity');\n",
    "plt.ylabel('Occurence');"
   ]
  },
  {
   "cell_type": "code",
   "execution_count": 21,
   "metadata": {},
   "outputs": [
    {
     "data": {
      "image/png": "[encoded data removed]",
      "text/plain": [
       "<Figure size 432x288 with 1 Axes>"
      ]
     },
     "metadata": {},
     "output_type": "display_data"
    }
   ],
   "source": [
    "plt.hist(angles, bins=100)\n",
    "plt.xlabel('angle');\n",
    "plt.ylabel('Occurence');"
   ]
  },
  {
   "cell_type": "code",
   "execution_count": 22,
   "metadata": {},
   "outputs": [
    {
     "data": {
      "image/png": "[encoded data removed]",
      "text/plain": [
       "<Figure size 432x288 with 1 Axes>"
      ]
     },
     "metadata": {},
     "output_type": "display_data"
    }
   ],
   "source": [
    "plt.hist(angular_velocities, bins=100)\n",
    "plt.xlabel('angular_velocity');\n",
    "plt.ylabel('Occurence');"
   ]
  },
  {
   "cell_type": "markdown",
   "metadata": {},
   "source": [
    "# Policy gradient"
   ]
  },
  {
   "cell_type": "markdown",
   "metadata": {},
   "source": [
    "## Computational graph"
   ]
  },
  {
   "cell_type": "code",
   "execution_count": null,
   "metadata": {},
   "outputs": [],
   "source": [
    "tf.reset_default_graph()\n",
    "\n",
    "nb_neurons_input = 4  # len(obs)\n",
    "nb_neurons_hidden_layer = 4\n",
    "nb_neurons_output = 1\n",
    "\n",
    "X = tf.placeholder(shape=[None, nb_neurons_input], dtype=tf.float32, name=\"X\")\n",
    "\n",
    "with tf.name_scope(\"dnn\"): \n",
    "    initializer_w = tf.contrib.layers.xavier_initializer()\n",
    "    initializer_b = tf.zeros_initializer() \n",
    "    hidden = tf.layers.dense(X, nb_neurons_hidden_layer, \\\n",
    "                             activation=tf.nn.elu, \\\n",
    "                             kernel_initializer=tf.contrib.layers.xavier_initializer(), \\\n",
    "                             name=\"hidden\")\n",
    "    output = tf.layers.dense(hidden, nb_neurons_output, \n",
    "                             activation=tf.nn.sigmoid,\n",
    "                             name=\"output\")  # proba of moving kart to left\n",
    "\n",
    "init = tf.global_variables_initializer()"
   ]
  },
  {
   "cell_type": "markdown",
   "metadata": {},
   "source": [
    "## Playing an episode - before training"
   ]
  },
  {
   "cell_type": "code",
   "execution_count": null,
   "metadata": {},
   "outputs": [],
   "source": [
    "def run_episode_neural_network(show_renderer=False):    \n",
    "    with tf.Session() as sess:\n",
    "        init.run()\n",
    "        obs = env.reset()\n",
    "        obs_pretty = obs.reshape(1, nb_neurons_input)\n",
    "        done = False\n",
    "        final_score = 0\n",
    "        while not done:\n",
    "            if show_renderer:\n",
    "                env.render()\n",
    "            proba_move_to_left = output.eval(feed_dict={X: obs_pretty})        \n",
    "            if random.uniform(0, 1) < proba_move_to_left:\n",
    "                action = 0  # move to left\n",
    "            else:\n",
    "                action = 1       \n",
    "            obs, reward, done, info = env.step(action) \n",
    "            if done:\n",
    "                break\n",
    "            final_score += reward\n",
    "    env.reset()\n",
    "    env.close()\n",
    "    return final_score"
   ]
  },
  {
   "cell_type": "code",
   "execution_count": null,
   "metadata": {},
   "outputs": [],
   "source": [
    "scores = []\n",
    "nb_episodes = 100\n",
    "\n",
    "for i in range(0, nb_episodes):\n",
    "    episode_score = run_episode_neural_network()\n",
    "    scores.append(episode_score)"
   ]
  },
  {
   "cell_type": "code",
   "execution_count": null,
   "metadata": {},
   "outputs": [],
   "source": [
    "print(np.mean(scores))\n",
    "plt.plot(scores)\n",
    "plt.xlabel('episodes')\n",
    "plt.ylabel('rewards')\n",
    "plt.show()"
   ]
  },
  {
   "cell_type": "markdown",
   "metadata": {},
   "source": [
    "## Training the neural net to imitate the human crafted policy"
   ]
  },
  {
   "cell_type": "code",
   "execution_count": null,
   "metadata": {},
   "outputs": [],
   "source": [
    "tf.reset_default_graph()\n",
    "\n",
    "nb_neurons_input = 4  # len(obs)\n",
    "nb_neurons_hidden_layer = 4\n",
    "nb_neurons_output = 1\n",
    "learning_rate = 0.01\n",
    "\n",
    "X = tf.placeholder(tf.float32, shape=[None, nb_neurons_input], name=\"X\")\n",
    "y = tf.placeholder(tf.float32, shape=[None, nb_neurons_output], name=\"y\")\n",
    "\n",
    "with tf.name_scope(\"dnn\"): \n",
    "    initializer_w = tf.contrib.layers.xavier_initializer()\n",
    "    initializer_b = tf.zeros_initializer() \n",
    "    \n",
    "    hidden = tf.layers.dense(X, nb_neurons_hidden_layer, \\\n",
    "                             activation=tf.nn.elu, \\\n",
    "                             kernel_initializer=tf.contrib.layers.xavier_initializer(), \\\n",
    "                             name=\"hidden\")\n",
    "    logits = tf.layers.dense(hidden, nb_neurons_output, \n",
    "                             name=\"logits\")  \n",
    "    estimated_action_value = tf.nn.sigmoid(logits, name=\"estimated_action_value\")  # 0 => left, 1 => right\n",
    "    p_left_and_right = tf.concat(axis=1, values=[1 - estimated_action_value, estimated_action_value])\n",
    "    estimated_action = tf.multinomial(tf.log(p_left_and_right), num_samples=1)\n",
    "\n",
    "cross_entropy = tf.nn.sigmoid_cross_entropy_with_logits(labels=y, logits=logits)\n",
    "optimizer = tf.train.AdamOptimizer(learning_rate)\n",
    "training_op = optimizer.minimize(cross_entropy)\n",
    "\n",
    "init = tf.global_variables_initializer()\n",
    "saver = tf.train.Saver()"
   ]
  },
  {
   "cell_type": "code",
   "execution_count": null,
   "metadata": {},
   "outputs": [],
   "source": [
    "nb_training_episode = 2000\n",
    "tf_logs_dir = os.path.join(\".\", \"save\", \"tf_logs\", \"imitation_neural_net\")\n",
    "if not os.path.isdir(tf_logs_dir):\n",
    "    os.makedirs(tf_logs_dir)\n",
    "tf_log_file = os.path.join(tf_logs_dir, \"imitation_neural_net.ckpt\")\n",
    "\n",
    "with tf.Session() as sess:\n",
    "    init.run()\n",
    "    for episode in range(nb_training_episode):\n",
    "        step = 0\n",
    "        done = False\n",
    "        episode_score, reward = 0, 0    \n",
    "        obs = env.reset()\n",
    "        while not done:         \n",
    "            position, velocity, angle, angular_velocity = obs\n",
    "            obs_pretty = obs.reshape(1, nb_neurons_input)\n",
    "            target_action = human_decision(angle)\n",
    "            target_action = np.array([target_action]).reshape(1, 1)     \n",
    "            action_val, _ = sess.run([estimated_action, training_op], feed_dict={X: obs_pretty, y: target_action})  \n",
    "            selected_action = action_val[0][0]            \n",
    "            obs, reward, done, info = env.step(selected_action)                \n",
    "    saver.save(sess, tf_log_file)"
   ]
  },
  {
   "cell_type": "code",
   "execution_count": null,
   "metadata": {},
   "outputs": [],
   "source": [
    "def run_episode_neural_network(tf_log_file, show_renderer=False): \n",
    "    with tf.Session() as sess:\n",
    "        saver.restore(sess, tf_log_file)\n",
    "        obs = env.reset()\n",
    "        done = False\n",
    "        final_score = 0\n",
    "        while not done:\n",
    "            if show_renderer:\n",
    "                env.render()\n",
    "            obs_pretty = obs.reshape(1, nb_neurons_input)\n",
    "            estimated_action = estimated_action_value.eval(feed_dict={X: obs_pretty}) \n",
    "            estimated_action = estimated_action[0][0]    \n",
    "            if estimated_action > 0.5:\n",
    "                action = 1\n",
    "            else:\n",
    "                action = 0  \n",
    "            obs, reward, done, info = env.step(action)\n",
    "            final_score += reward\n",
    "    env.reset()\n",
    "    env.close()\n",
    "    return final_score"
   ]
  },
  {
   "cell_type": "code",
   "execution_count": null,
   "metadata": {},
   "outputs": [],
   "source": [
    "tf_logs_dir = os.path.join(\".\", \"save\", \"tf_logs\", \"imitation_neural_net\")\n",
    "if not os.path.isdir(tf_logs_dir):\n",
    "    os.makedirs(tf_logs_dir)\n",
    "tf_log_file = os.path.join(tf_logs_dir, \"imitation_neural_net.ckpt\")"
   ]
  },
  {
   "cell_type": "code",
   "execution_count": null,
   "metadata": {},
   "outputs": [],
   "source": [
    "scores = []\n",
    "nb_episodes = 100\n",
    "\n",
    "for i in range(0, nb_episodes):\n",
    "    episode_score = run_episode_neural_network(tf_log_file)\n",
    "    scores.append(episode_score)"
   ]
  },
  {
   "cell_type": "code",
   "execution_count": null,
   "metadata": {},
   "outputs": [],
   "source": [
    "print(np.mean(scores))\n",
    "plt.plot(scores)\n",
    "plt.xlabel('episodes')\n",
    "plt.ylabel('rewards')\n",
    "plt.show()"
   ]
  },
  {
   "cell_type": "markdown",
   "metadata": {},
   "source": [
    "## Actual policy gradient"
   ]
  },
  {
   "cell_type": "code",
   "execution_count": null,
   "metadata": {},
   "outputs": [],
   "source": [
    "tf.reset_default_graph()\n",
    "\n",
    "nb_neurons_input = 4  # len(obs)\n",
    "nb_neurons_hidden_layer = 4\n",
    "nb_neurons_output = 1\n",
    "learning_rate = 0.01\n",
    "\n",
    "X = tf.placeholder(tf.float32, shape=[None, nb_neurons_input], name=\"X\")\n",
    "y = tf.placeholder(tf.float32, shape=[None, nb_neurons_output], name=\"y\")\n",
    "\n",
    "with tf.name_scope(\"dnn\"): \n",
    "    initializer_w = tf.contrib.layers.xavier_initializer()\n",
    "    initializer_b = tf.zeros_initializer() \n",
    "    \n",
    "    hidden = tf.layers.dense(X, nb_neurons_hidden_layer, \\\n",
    "                             activation=tf.nn.elu, \\\n",
    "                             kernel_initializer=tf.contrib.layers.xavier_initializer(), \\\n",
    "                             name=\"hidden\")\n",
    "    logits = tf.layers.dense(hidden, nb_neurons_output, \n",
    "                             name=\"logits\")  \n",
    "    estimated_action_value = tf.nn.sigmoid(logits, name=\"estimated_action_value\")  # 0 => left, 1 => right\n",
    "    p_left_and_right = tf.concat(axis=1, values=[1 - estimated_action_value, estimated_action_value])\n",
    "    tentative_action = tf.multinomial(tf.log(p_left_and_right), num_samples=1)\n",
    "\n",
    "    \n",
    "    \n",
    "y = tf.to_float(tentative_action)\n",
    "cross_entropy = tf.nn.sigmoid_cross_entropy_with_logits(labels=y, logits=logits)\n",
    "optimizer = tf.train.AdamOptimizer(learning_rate)\n",
    "grads_and_vars = optimizer.compute_gradients(cross_entropy)\n",
    "gradients = [grad for grad, variable in grads_and_vars]\n",
    "gradient_placeholders = []\n",
    "grads_and_vars_feed = []\n",
    "for grad, variable in grads_and_vars:\n",
    "    gradient_placeholder = tf.placeholder(tf.float32, shape=grad.get_shape())\n",
    "    gradient_placeholders.append(gradient_placeholder)\n",
    "    grads_and_vars_feed.append((gradient_placeholder, variable))\n",
    "training_op = optimizer.apply_gradients(grads_and_vars_feed)\n",
    "    \n",
    "init = tf.global_variables_initializer()\n",
    "saver = tf.train.Saver()"
   ]
  },
  {
   "cell_type": "code",
   "execution_count": null,
   "metadata": {},
   "outputs": [],
   "source": [
    "def discount_rewards(rewards, discount_rate):\n",
    "    discounted_rewards = np.zeros(len(rewards))\n",
    "    cumulative_rewards = 0\n",
    "    for step in reversed(range(len(rewards))):\n",
    "        cumulative_rewards = rewards[step] + cumulative_rewards * discount_rate\n",
    "        discounted_rewards[step] = cumulative_rewards\n",
    "    return discounted_rewards\n",
    "\n",
    "def discount_and_normalize_rewards(all_rewards, discount_rate):\n",
    "    all_discounted_rewards = [discount_rewards(rewards, discount_rate) for rewards in all_rewards]\n",
    "    flat_rewards = np.concatenate(all_discounted_rewards)\n",
    "    reward_mean = flat_rewards.mean()\n",
    "    reward_std = flat_rewards.std()\n",
    "    return [(discounted_rewards - reward_mean) / reward_std for discounted_rewards in all_discounted_rewards]"
   ]
  },
  {
   "cell_type": "code",
   "execution_count": null,
   "metadata": {},
   "outputs": [],
   "source": [
    "tf.reset_default_graph()\n",
    "\n",
    "nb_neurons_input = 4  # len(obs)\n",
    "nb_neurons_hidden_layer = 4\n",
    "nb_neurons_output = 1\n",
    "\n",
    "learning_rate = 0.01\n",
    "\n",
    "X = tf.placeholder(tf.float32, shape=[None, nb_neurons_input])\n",
    "\n",
    "with tf.name_scope(\"dnn\"): \n",
    "    initializer_w = tf.contrib.layers.xavier_initializer()\n",
    "    initializer_b = tf.zeros_initializer() \n",
    "    \n",
    "    hidden = tf.layers.dense(X, nb_neurons_hidden_layer, \\\n",
    "                             activation=tf.nn.elu, \\\n",
    "                             kernel_initializer=tf.contrib.layers.xavier_initializer(), \\\n",
    "                             name=\"hidden\")\n",
    "    logits = tf.layers.dense(hidden, nb_neurons_output, \n",
    "                             name=\"logits\")  \n",
    "    estimated_action_value = tf.nn.sigmoid(logits, name=\"estimated_action_value\")  # 0 => left, 1 => right\n",
    "    p_left_and_right = tf.concat(axis=1, values=[1 - estimated_action_value, estimated_action_value])\n",
    "    tentative_action = tf.multinomial(tf.log(p_left_and_right), num_samples=1)\n",
    "\n",
    "y = tf.to_float(tentative_action)\n",
    "cross_entropy = tf.nn.sigmoid_cross_entropy_with_logits(labels=y, logits=logits)\n",
    "optimizer = tf.train.AdamOptimizer(learning_rate)\n",
    "grads_and_vars = optimizer.compute_gradients(cross_entropy)\n",
    "gradients = [grad for grad, variable in grads_and_vars]\n",
    "gradient_placeholders = []\n",
    "grads_and_vars_feed = []\n",
    "for grad, variable in grads_and_vars:\n",
    "    gradient_placeholder = tf.placeholder(tf.float32, shape=grad.get_shape())\n",
    "    gradient_placeholders.append(gradient_placeholder)\n",
    "    grads_and_vars_feed.append((gradient_placeholder, variable))\n",
    "training_op = optimizer.apply_gradients(grads_and_vars_feed)\n",
    "\n",
    "init = tf.global_variables_initializer()\n",
    "saver = tf.train.Saver()"
   ]
  },
  {
   "cell_type": "code",
   "execution_count": null,
   "metadata": {},
   "outputs": [],
   "source": [
    "nb_training_sessions = 250\n",
    "nb_episodes_per_training_session = 10\n",
    "save_iterations = 10\n",
    "discount_rate = 0.95\n",
    "tf_logs_dir = os.path.join(\".\", \"save\", \"tf_logs\", \"policy_gradient_neural_net\")\n",
    "if not os.path.isdir(tf_logs_dir):\n",
    "    os.makedirs(tf_logs_dir)\n",
    "tf_log_file = os.path.join(tf_logs_dir, \"policy_gradient_neural_net.ckpt\")\n",
    "\n",
    "with tf.Session() as sess:\n",
    "    init.run()  # TODO: restore the previous network which imitates the human behaviour\n",
    "    for training_session in range(nb_training_sessions):\n",
    "        print(\"Training session: {}\".format(training_session))        \n",
    "        all_rewards = []\n",
    "        all_gradients = []\n",
    "        for episode in range(nb_episodes_per_training_session):\n",
    "            current_rewards = []\n",
    "            current_gradients = []\n",
    "            obs = env.reset()\n",
    "            done = False\n",
    "            while not done: \n",
    "                action_val, gradients_val = sess.run([tentative_action, gradients], feed_dict={X: obs.reshape(1, nb_neurons_input)})\n",
    "                obs, reward, done, info = env.step(action_val[0][0])\n",
    "                current_rewards.append(reward)\n",
    "                current_gradients.append(gradients_val)\n",
    "            all_rewards.append(current_rewards)\n",
    "            all_gradients.append(current_gradients)\n",
    "\n",
    "        all_rewards = discount_and_normalize_rewards(all_rewards, discount_rate=discount_rate)\n",
    "        feed_dict = {}\n",
    "        for var_index, gradient_placeholder in enumerate(gradient_placeholders):\n",
    "            mean_gradients = np.mean([reward * all_gradients[game_index][step][var_index]\n",
    "                                      for game_index, rewards in enumerate(all_rewards)\n",
    "                                          for step, reward in enumerate(rewards)], axis=0)\n",
    "            feed_dict[gradient_placeholder] = mean_gradients\n",
    "        sess.run(training_op, feed_dict=feed_dict)\n",
    "        if training_session % save_iterations == 0:\n",
    "            saver.save(sess, tf_log_file)"
   ]
  },
  {
   "cell_type": "code",
   "execution_count": null,
   "metadata": {},
   "outputs": [],
   "source": [
    "def run_episode_neural_network(tf_log_file, show_renderer=False): \n",
    "    with tf.Session() as sess:\n",
    "        saver.restore(sess, tf_log_file)\n",
    "        obs = env.reset()\n",
    "        done = False\n",
    "        final_score = 0\n",
    "        while not done:\n",
    "            if show_renderer:\n",
    "                env.render()\n",
    "            obs_pretty = obs.reshape(1, nb_neurons_input)\n",
    "            estimated_action = estimated_action_value.eval(feed_dict={X: obs_pretty}) \n",
    "            estimatedestimated_action_action = estimated_action[0][0]    \n",
    "            if estimated_action > 0.5:\n",
    "                action = 1\n",
    "            else:\n",
    "                action = 0  \n",
    "            obs, reward, done, info = env.step(action)\n",
    "            final_score += reward\n",
    "    env.reset()\n",
    "    env.close()\n",
    "    return final_score"
   ]
  },
  {
   "cell_type": "code",
   "execution_count": null,
   "metadata": {},
   "outputs": [],
   "source": [
    "tf_logs_dir = os.path.join(\".\", \"save\", \"tf_logs\", \"policy_gradient_neural_net\")\n",
    "if not os.path.isdir(tf_logs_dir):\n",
    "    os.makedirs(tf_logs_dir)\n",
    "tf_log_file = os.path.join(tf_logs_dir, \"policy_gradient_neural_net.ckpt\")"
   ]
  },
  {
   "cell_type": "code",
   "execution_count": null,
   "metadata": {},
   "outputs": [],
   "source": [
    "scores = []\n",
    "nb_episodes = 100\n",
    "\n",
    "for i in range(0, nb_episodes):\n",
    "    episode_score = run_episode_neural_network(tf_log_file, False)\n",
    "    scores.append(episode_score)"
   ]
  },
  {
   "cell_type": "code",
   "execution_count": null,
   "metadata": {},
   "outputs": [],
   "source": [
    "print(np.mean(scores))\n",
    "plt.plot(scores)"
   ]
  },
  {
   "cell_type": "code",
   "execution_count": null,
   "metadata": {},
   "outputs": [],
   "source": []
  },
  {
   "cell_type": "code",
   "execution_count": null,
   "metadata": {},
   "outputs": [],
   "source": []
  }
 ],
 "metadata": {
  "kernelspec": {
   "display_name": "Python 3",
   "language": "python",
   "name": "python3"
  },
  "language_info": {
   "codemirror_mode": {
    "name": "ipython",
    "version": 3
   },
   "file_extension": ".py",
   "mimetype": "text/x-python",
   "name": "python",
   "nbconvert_exporter": "python",
   "pygments_lexer": "ipython3",
   "version": "3.6.7"
  }
 },
 "nbformat": 4,
 "nbformat_minor": 2
}
